{
 "cells": [
  {
   "cell_type": "markdown",
   "metadata": {
    "toc": true
   },
   "source": [
    "<h1>Сервис для чтения книг<span class=\"tocSkip\"></span></h1>\n",
    "<div class=\"toc\"><ul class=\"toc-item\"><li><span><a href=\"#Цели-и-задачи:\" data-toc-modified-id=\"Цели-и-задачи:-1\"><span class=\"toc-item-num\">1&nbsp;&nbsp;</span>Цели и задачи:</a></span></li><li><span><a href=\"#Описание-данных\" data-toc-modified-id=\"Описание-данных-2\"><span class=\"toc-item-num\">2&nbsp;&nbsp;</span>Описание данных</a></span></li><li><span><a href=\"#Импорт-библиотек\" data-toc-modified-id=\"Импорт-библиотек-3\"><span class=\"toc-item-num\">3&nbsp;&nbsp;</span>Импорт библиотек</a></span></li><li><span><a href=\"#Исследование-таблиц\" data-toc-modified-id=\"Исследование-таблиц-4\"><span class=\"toc-item-num\">4&nbsp;&nbsp;</span>Исследование таблиц</a></span><ul class=\"toc-item\"><li><span><a href=\"#books\" data-toc-modified-id=\"books-4.1\"><span class=\"toc-item-num\">4.1&nbsp;&nbsp;</span>books</a></span></li><li><span><a href=\"#authors\" data-toc-modified-id=\"authors-4.2\"><span class=\"toc-item-num\">4.2&nbsp;&nbsp;</span>authors</a></span></li><li><span><a href=\"#publishers\" data-toc-modified-id=\"publishers-4.3\"><span class=\"toc-item-num\">4.3&nbsp;&nbsp;</span>publishers</a></span></li><li><span><a href=\"#ratings\" data-toc-modified-id=\"ratings-4.4\"><span class=\"toc-item-num\">4.4&nbsp;&nbsp;</span>ratings</a></span></li><li><span><a href=\"#reviews\" data-toc-modified-id=\"reviews-4.5\"><span class=\"toc-item-num\">4.5&nbsp;&nbsp;</span>reviews</a></span></li></ul></li><li><span><a href=\"#Запросы\" data-toc-modified-id=\"Запросы-5\"><span class=\"toc-item-num\">5&nbsp;&nbsp;</span>Запросы</a></span><ul class=\"toc-item\"><li><span><a href=\"#Посчитайте,-сколько-книг-вышло-после-1-января-2000-года\" data-toc-modified-id=\"Посчитайте,-сколько-книг-вышло-после-1-января-2000-года-5.1\"><span class=\"toc-item-num\">5.1&nbsp;&nbsp;</span>Посчитайте, сколько книг вышло после 1 января 2000 года</a></span></li><li><span><a href=\"#Для-каждой-книги-посчитайте-количество-обзоров-и-среднюю-оценку\" data-toc-modified-id=\"Для-каждой-книги-посчитайте-количество-обзоров-и-среднюю-оценку-5.2\"><span class=\"toc-item-num\">5.2&nbsp;&nbsp;</span>Для каждой книги посчитайте количество обзоров и среднюю оценку</a></span></li><li><span><a href=\"#Определите-издательство,-которое-выпустило-наибольшее-число-книг-толще-50-страниц\" data-toc-modified-id=\"Определите-издательство,-которое-выпустило-наибольшее-число-книг-толще-50-страниц-5.3\"><span class=\"toc-item-num\">5.3&nbsp;&nbsp;</span>Определите издательство, которое выпустило наибольшее число книг толще 50 страниц</a></span></li><li><span><a href=\"#Определите-автора-с-самой-высокой-средней-оценкой-книг-—-учитывайте-только-книги-с-50-и-более-оценками\" data-toc-modified-id=\"Определите-автора-с-самой-высокой-средней-оценкой-книг-—-учитывайте-только-книги-с-50-и-более-оценками-5.4\"><span class=\"toc-item-num\">5.4&nbsp;&nbsp;</span>Определите автора с самой высокой средней оценкой книг — учитывайте только книги с 50 и более оценками</a></span></li><li><span><a href=\"#Посчитайте-среднее-количество-обзоров-от-пользователей,-которые-поставили-больше-50-оценок\" data-toc-modified-id=\"Посчитайте-среднее-количество-обзоров-от-пользователей,-которые-поставили-больше-50-оценок-5.5\"><span class=\"toc-item-num\">5.5&nbsp;&nbsp;</span>Посчитайте среднее количество обзоров от пользователей, которые поставили больше 50 оценок</a></span></li></ul></li></ul></div>"
   ]
  },
  {
   "cell_type": "markdown",
   "metadata": {},
   "source": [
    "# Сервис для чтения книг"
   ]
  },
  {
   "cell_type": "markdown",
   "metadata": {},
   "source": [
    "## Цели и задачи:"
   ]
  },
  {
   "cell_type": "markdown",
   "metadata": {},
   "source": [
    "Компания купила крупный сервис для чтения книг по подписке. Задача  — проанализировать базу данных.\n",
    "\n",
    "В ней — информация о книгах, издательствах, авторах, а также пользовательские обзоры книг.\n",
    "\n",
    "Эти данные помогут сформулировать ценностное предложение для нового продукта.\n",
    "\n",
    "Наши задания: \n",
    "\n",
    "- Посчитать, сколько книг вышло после 1 января 2000 года;\n",
    "- Для каждой книги посчитать количество обзоров и среднюю оценку;\n",
    "- Определить издательство, которое выпустило наибольшее число книг толще 50 страниц — так мы исключим из анализа брошюры;\n",
    "- Определить автора с самой высокой средней оценкой книг — учитывая только книги с 50 и более оценками;\n",
    "- Посчитать среднее количество обзоров от пользователей, которые поставили больше 50 оценок."
   ]
  },
  {
   "cell_type": "markdown",
   "metadata": {},
   "source": [
    "## Описание данных"
   ]
  },
  {
   "cell_type": "markdown",
   "metadata": {},
   "source": [
    "**Таблица books**\n",
    "\n",
    "Содержит данные о книгах:\n",
    "- book_id — идентификатор книги;\n",
    "- author_id — идентификатор автора;\n",
    "- title — название книги;\n",
    "- num_pages — количество страниц;\n",
    "- publication_date — дата публикации книги;\n",
    "- publisher_id — идентификатор издателя.\n",
    "\n",
    "**Таблица authors**\n",
    "\n",
    "Содержит данные об авторах:\n",
    "- author_id — идентификатор автора;\n",
    "- author — имя автора.\n",
    "\n",
    "**Таблица publishers**\n",
    "\n",
    "Содержит данные об издательствах:\n",
    "- publisher_id — идентификатор издательства;\n",
    "- publisher — название издательства;\n",
    "\n",
    "**Таблица ratings**\n",
    "\n",
    "Содержит данные о пользовательских оценках книг:\n",
    "- rating_id — идентификатор оценки;\n",
    "- book_id — идентификатор книги;\n",
    "- username — имя пользователя, оставившего оценку;\n",
    "- rating — оценка книги.\n",
    "\n",
    "**Таблица reviews**\n",
    "\n",
    "Содержит данные о пользовательских обзорах:\n",
    "- review_id — идентификатор обзора;\n",
    "- book_id — идентификатор книги;\n",
    "- username — имя автора обзора;\n",
    "- text — текст обзора."
   ]
  },
  {
   "cell_type": "markdown",
   "metadata": {},
   "source": [
    "## Импорт библиотек"
   ]
  },
  {
   "cell_type": "code",
   "execution_count": 14,
   "metadata": {},
   "outputs": [],
   "source": [
    "import pandas as pd\n",
    "from sqlalchemy import create_engine\n",
    "import datetime as dt\n",
    "\n",
    "CSS = \"\"\" \n",
    ".output { \n",
    "    flex-direction: row; \n",
    "} \n",
    "\"\"\" "
   ]
  },
  {
   "cell_type": "code",
   "execution_count": 15,
   "metadata": {
    "scrolled": true
   },
   "outputs": [],
   "source": [
    "def table_info(table, table_name):\n",
    "    \n",
    "    #table = data[table]\n",
    "    display(f\"Таблица {table_name}\")\n",
    "    display(f\"Количество строк: {table.shape[0]}, Количество столбцов: {table.shape[1]}\")\n",
    "    for column in table.columns:\n",
    "        display(f\"Столбец: {column}\", \n",
    "                f\"Количество уникальных значений: {table[column].nunique()}\",\n",
    "                f\"Тип данных: {table[column].dtype}\")\n",
    "    display(f\"Количество явных дубликатов: {table.duplicated().sum()}\")\n",
    "    display(pd.DataFrame(round(table.isna().mean()*100, 2)).style.background_gradient('coolwarm'))\n",
    "    display(table.head())"
   ]
  },
  {
   "cell_type": "code",
   "execution_count": 16,
   "metadata": {},
   "outputs": [],
   "source": [
    "# параметры подключения к БД\n",
    "db_config = {\n",
    "    'user': 'praktikum_student', \n",
    "    'pwd': 'Sdf4$2;d-d30pp', \n",
    "    'host': 'rc1b-wcoijxj3yxfsf3fs.mdb.yandexcloud.net',\n",
    "    'port': 6432, # порт подключения\n",
    "    'db': 'data-analyst-final-project-db' # название базы данных\n",
    "}\n",
    "\n",
    "# создаем строку подключения к БД\n",
    "connection_string = 'postgresql://{}:{}@{}:{}/{}'.format(\n",
    "    db_config['user'],\n",
    "    db_config['pwd'],\n",
    "    db_config['host'],\n",
    "    db_config['port'],\n",
    "    db_config['db']\n",
    ")\n",
    "\n",
    "# создаем объект engine\n",
    "engine = create_engine(connection_string, connect_args={'sslmode':'require'})\n",
    "\n",
    "# список таблиц\n",
    "tables = ['books', 'authors', 'publishers', 'ratings', 'reviews']\n",
    "\n",
    "# создаем словарь для хранения таблиц\n",
    "data = {}\n",
    "\n",
    "# выводим данные из каждой таблицы\n",
    "for table in tables:\n",
    "    query = f\"SELECT * FROM {table}\"\n",
    "    df = pd.read_sql(query, con=engine)\n",
    "    data[table] = df\n",
    "\n"
   ]
  },
  {
   "cell_type": "markdown",
   "metadata": {},
   "source": [
    "## Исследование таблиц"
   ]
  },
  {
   "cell_type": "markdown",
   "metadata": {},
   "source": [
    "### books"
   ]
  },
  {
   "cell_type": "code",
   "execution_count": 17,
   "metadata": {
    "scrolled": true
   },
   "outputs": [
    {
     "data": {
      "text/plain": [
       "'Таблица books'"
      ]
     },
     "metadata": {},
     "output_type": "display_data"
    },
    {
     "data": {
      "text/plain": [
       "'Количество строк: 1000, Количество столбцов: 6'"
      ]
     },
     "metadata": {},
     "output_type": "display_data"
    },
    {
     "data": {
      "text/plain": [
       "'Столбец: book_id'"
      ]
     },
     "metadata": {},
     "output_type": "display_data"
    },
    {
     "data": {
      "text/plain": [
       "'Количество уникальных значений: 1000'"
      ]
     },
     "metadata": {},
     "output_type": "display_data"
    },
    {
     "data": {
      "text/plain": [
       "'Тип данных: int64'"
      ]
     },
     "metadata": {},
     "output_type": "display_data"
    },
    {
     "data": {
      "text/plain": [
       "'Столбец: author_id'"
      ]
     },
     "metadata": {},
     "output_type": "display_data"
    },
    {
     "data": {
      "text/plain": [
       "'Количество уникальных значений: 636'"
      ]
     },
     "metadata": {},
     "output_type": "display_data"
    },
    {
     "data": {
      "text/plain": [
       "'Тип данных: int64'"
      ]
     },
     "metadata": {},
     "output_type": "display_data"
    },
    {
     "data": {
      "text/plain": [
       "'Столбец: title'"
      ]
     },
     "metadata": {},
     "output_type": "display_data"
    },
    {
     "data": {
      "text/plain": [
       "'Количество уникальных значений: 999'"
      ]
     },
     "metadata": {},
     "output_type": "display_data"
    },
    {
     "data": {
      "text/plain": [
       "'Тип данных: object'"
      ]
     },
     "metadata": {},
     "output_type": "display_data"
    },
    {
     "data": {
      "text/plain": [
       "'Столбец: num_pages'"
      ]
     },
     "metadata": {},
     "output_type": "display_data"
    },
    {
     "data": {
      "text/plain": [
       "'Количество уникальных значений: 454'"
      ]
     },
     "metadata": {},
     "output_type": "display_data"
    },
    {
     "data": {
      "text/plain": [
       "'Тип данных: int64'"
      ]
     },
     "metadata": {},
     "output_type": "display_data"
    },
    {
     "data": {
      "text/plain": [
       "'Столбец: publication_date'"
      ]
     },
     "metadata": {},
     "output_type": "display_data"
    },
    {
     "data": {
      "text/plain": [
       "'Количество уникальных значений: 618'"
      ]
     },
     "metadata": {},
     "output_type": "display_data"
    },
    {
     "data": {
      "text/plain": [
       "'Тип данных: object'"
      ]
     },
     "metadata": {},
     "output_type": "display_data"
    },
    {
     "data": {
      "text/plain": [
       "'Столбец: publisher_id'"
      ]
     },
     "metadata": {},
     "output_type": "display_data"
    },
    {
     "data": {
      "text/plain": [
       "'Количество уникальных значений: 340'"
      ]
     },
     "metadata": {},
     "output_type": "display_data"
    },
    {
     "data": {
      "text/plain": [
       "'Тип данных: int64'"
      ]
     },
     "metadata": {},
     "output_type": "display_data"
    },
    {
     "data": {
      "text/plain": [
       "'Количество явных дубликатов: 0'"
      ]
     },
     "metadata": {},
     "output_type": "display_data"
    },
    {
     "data": {
      "text/html": [
       "<style type=\"text/css\">\n",
       "#T_80de4_row0_col0, #T_80de4_row1_col0, #T_80de4_row2_col0, #T_80de4_row3_col0, #T_80de4_row4_col0, #T_80de4_row5_col0 {\n",
       "  background-color: #3b4cc0;\n",
       "  color: #f1f1f1;\n",
       "}\n",
       "</style>\n",
       "<table id=\"T_80de4\">\n",
       "  <thead>\n",
       "    <tr>\n",
       "      <th class=\"blank level0\" >&nbsp;</th>\n",
       "      <th id=\"T_80de4_level0_col0\" class=\"col_heading level0 col0\" >0</th>\n",
       "    </tr>\n",
       "  </thead>\n",
       "  <tbody>\n",
       "    <tr>\n",
       "      <th id=\"T_80de4_level0_row0\" class=\"row_heading level0 row0\" >book_id</th>\n",
       "      <td id=\"T_80de4_row0_col0\" class=\"data row0 col0\" >0.000000</td>\n",
       "    </tr>\n",
       "    <tr>\n",
       "      <th id=\"T_80de4_level0_row1\" class=\"row_heading level0 row1\" >author_id</th>\n",
       "      <td id=\"T_80de4_row1_col0\" class=\"data row1 col0\" >0.000000</td>\n",
       "    </tr>\n",
       "    <tr>\n",
       "      <th id=\"T_80de4_level0_row2\" class=\"row_heading level0 row2\" >title</th>\n",
       "      <td id=\"T_80de4_row2_col0\" class=\"data row2 col0\" >0.000000</td>\n",
       "    </tr>\n",
       "    <tr>\n",
       "      <th id=\"T_80de4_level0_row3\" class=\"row_heading level0 row3\" >num_pages</th>\n",
       "      <td id=\"T_80de4_row3_col0\" class=\"data row3 col0\" >0.000000</td>\n",
       "    </tr>\n",
       "    <tr>\n",
       "      <th id=\"T_80de4_level0_row4\" class=\"row_heading level0 row4\" >publication_date</th>\n",
       "      <td id=\"T_80de4_row4_col0\" class=\"data row4 col0\" >0.000000</td>\n",
       "    </tr>\n",
       "    <tr>\n",
       "      <th id=\"T_80de4_level0_row5\" class=\"row_heading level0 row5\" >publisher_id</th>\n",
       "      <td id=\"T_80de4_row5_col0\" class=\"data row5 col0\" >0.000000</td>\n",
       "    </tr>\n",
       "  </tbody>\n",
       "</table>\n"
      ],
      "text/plain": [
       "<pandas.io.formats.style.Styler at 0x7fb960c43c10>"
      ]
     },
     "metadata": {},
     "output_type": "display_data"
    },
    {
     "data": {
      "text/html": [
       "<div>\n",
       "<style scoped>\n",
       "    .dataframe tbody tr th:only-of-type {\n",
       "        vertical-align: middle;\n",
       "    }\n",
       "\n",
       "    .dataframe tbody tr th {\n",
       "        vertical-align: top;\n",
       "    }\n",
       "\n",
       "    .dataframe thead th {\n",
       "        text-align: right;\n",
       "    }\n",
       "</style>\n",
       "<table border=\"1\" class=\"dataframe\">\n",
       "  <thead>\n",
       "    <tr style=\"text-align: right;\">\n",
       "      <th></th>\n",
       "      <th>book_id</th>\n",
       "      <th>author_id</th>\n",
       "      <th>title</th>\n",
       "      <th>num_pages</th>\n",
       "      <th>publication_date</th>\n",
       "      <th>publisher_id</th>\n",
       "    </tr>\n",
       "  </thead>\n",
       "  <tbody>\n",
       "    <tr>\n",
       "      <th>0</th>\n",
       "      <td>1</td>\n",
       "      <td>546</td>\n",
       "      <td>'Salem's Lot</td>\n",
       "      <td>594</td>\n",
       "      <td>2005-11-01</td>\n",
       "      <td>93</td>\n",
       "    </tr>\n",
       "    <tr>\n",
       "      <th>1</th>\n",
       "      <td>2</td>\n",
       "      <td>465</td>\n",
       "      <td>1 000 Places to See Before You Die</td>\n",
       "      <td>992</td>\n",
       "      <td>2003-05-22</td>\n",
       "      <td>336</td>\n",
       "    </tr>\n",
       "    <tr>\n",
       "      <th>2</th>\n",
       "      <td>3</td>\n",
       "      <td>407</td>\n",
       "      <td>13 Little Blue Envelopes (Little Blue Envelope...</td>\n",
       "      <td>322</td>\n",
       "      <td>2010-12-21</td>\n",
       "      <td>135</td>\n",
       "    </tr>\n",
       "    <tr>\n",
       "      <th>3</th>\n",
       "      <td>4</td>\n",
       "      <td>82</td>\n",
       "      <td>1491: New Revelations of the Americas Before C...</td>\n",
       "      <td>541</td>\n",
       "      <td>2006-10-10</td>\n",
       "      <td>309</td>\n",
       "    </tr>\n",
       "    <tr>\n",
       "      <th>4</th>\n",
       "      <td>5</td>\n",
       "      <td>125</td>\n",
       "      <td>1776</td>\n",
       "      <td>386</td>\n",
       "      <td>2006-07-04</td>\n",
       "      <td>268</td>\n",
       "    </tr>\n",
       "  </tbody>\n",
       "</table>\n",
       "</div>"
      ],
      "text/plain": [
       "   book_id  author_id                                              title  \\\n",
       "0        1        546                                       'Salem's Lot   \n",
       "1        2        465                 1 000 Places to See Before You Die   \n",
       "2        3        407  13 Little Blue Envelopes (Little Blue Envelope...   \n",
       "3        4         82  1491: New Revelations of the Americas Before C...   \n",
       "4        5        125                                               1776   \n",
       "\n",
       "   num_pages publication_date  publisher_id  \n",
       "0        594       2005-11-01            93  \n",
       "1        992       2003-05-22           336  \n",
       "2        322       2010-12-21           135  \n",
       "3        541       2006-10-10           309  \n",
       "4        386       2006-07-04           268  "
      ]
     },
     "metadata": {},
     "output_type": "display_data"
    }
   ],
   "source": [
    "books = data['books']\n",
    "\n",
    "table_info(books, 'books')"
   ]
  },
  {
   "cell_type": "markdown",
   "metadata": {},
   "source": [
    "Пропуски дубликаты в данных не обнаружены. Тип данных в столбце с датой изменен."
   ]
  },
  {
   "cell_type": "markdown",
   "metadata": {},
   "source": [
    "### authors"
   ]
  },
  {
   "cell_type": "code",
   "execution_count": 18,
   "metadata": {},
   "outputs": [
    {
     "data": {
      "text/plain": [
       "'Таблица authors'"
      ]
     },
     "metadata": {},
     "output_type": "display_data"
    },
    {
     "data": {
      "text/plain": [
       "'Количество строк: 636, Количество столбцов: 2'"
      ]
     },
     "metadata": {},
     "output_type": "display_data"
    },
    {
     "data": {
      "text/plain": [
       "'Столбец: author_id'"
      ]
     },
     "metadata": {},
     "output_type": "display_data"
    },
    {
     "data": {
      "text/plain": [
       "'Количество уникальных значений: 636'"
      ]
     },
     "metadata": {},
     "output_type": "display_data"
    },
    {
     "data": {
      "text/plain": [
       "'Тип данных: int64'"
      ]
     },
     "metadata": {},
     "output_type": "display_data"
    },
    {
     "data": {
      "text/plain": [
       "'Столбец: author'"
      ]
     },
     "metadata": {},
     "output_type": "display_data"
    },
    {
     "data": {
      "text/plain": [
       "'Количество уникальных значений: 636'"
      ]
     },
     "metadata": {},
     "output_type": "display_data"
    },
    {
     "data": {
      "text/plain": [
       "'Тип данных: object'"
      ]
     },
     "metadata": {},
     "output_type": "display_data"
    },
    {
     "data": {
      "text/plain": [
       "'Количество явных дубликатов: 0'"
      ]
     },
     "metadata": {},
     "output_type": "display_data"
    },
    {
     "data": {
      "text/html": [
       "<style type=\"text/css\">\n",
       "#T_153f6_row0_col0, #T_153f6_row1_col0 {\n",
       "  background-color: #3b4cc0;\n",
       "  color: #f1f1f1;\n",
       "}\n",
       "</style>\n",
       "<table id=\"T_153f6\">\n",
       "  <thead>\n",
       "    <tr>\n",
       "      <th class=\"blank level0\" >&nbsp;</th>\n",
       "      <th id=\"T_153f6_level0_col0\" class=\"col_heading level0 col0\" >0</th>\n",
       "    </tr>\n",
       "  </thead>\n",
       "  <tbody>\n",
       "    <tr>\n",
       "      <th id=\"T_153f6_level0_row0\" class=\"row_heading level0 row0\" >author_id</th>\n",
       "      <td id=\"T_153f6_row0_col0\" class=\"data row0 col0\" >0.000000</td>\n",
       "    </tr>\n",
       "    <tr>\n",
       "      <th id=\"T_153f6_level0_row1\" class=\"row_heading level0 row1\" >author</th>\n",
       "      <td id=\"T_153f6_row1_col0\" class=\"data row1 col0\" >0.000000</td>\n",
       "    </tr>\n",
       "  </tbody>\n",
       "</table>\n"
      ],
      "text/plain": [
       "<pandas.io.formats.style.Styler at 0x7fb971a858e0>"
      ]
     },
     "metadata": {},
     "output_type": "display_data"
    },
    {
     "data": {
      "text/html": [
       "<div>\n",
       "<style scoped>\n",
       "    .dataframe tbody tr th:only-of-type {\n",
       "        vertical-align: middle;\n",
       "    }\n",
       "\n",
       "    .dataframe tbody tr th {\n",
       "        vertical-align: top;\n",
       "    }\n",
       "\n",
       "    .dataframe thead th {\n",
       "        text-align: right;\n",
       "    }\n",
       "</style>\n",
       "<table border=\"1\" class=\"dataframe\">\n",
       "  <thead>\n",
       "    <tr style=\"text-align: right;\">\n",
       "      <th></th>\n",
       "      <th>author_id</th>\n",
       "      <th>author</th>\n",
       "    </tr>\n",
       "  </thead>\n",
       "  <tbody>\n",
       "    <tr>\n",
       "      <th>0</th>\n",
       "      <td>1</td>\n",
       "      <td>A.S. Byatt</td>\n",
       "    </tr>\n",
       "    <tr>\n",
       "      <th>1</th>\n",
       "      <td>2</td>\n",
       "      <td>Aesop/Laura Harris/Laura Gibbs</td>\n",
       "    </tr>\n",
       "    <tr>\n",
       "      <th>2</th>\n",
       "      <td>3</td>\n",
       "      <td>Agatha Christie</td>\n",
       "    </tr>\n",
       "    <tr>\n",
       "      <th>3</th>\n",
       "      <td>4</td>\n",
       "      <td>Alan Brennert</td>\n",
       "    </tr>\n",
       "    <tr>\n",
       "      <th>4</th>\n",
       "      <td>5</td>\n",
       "      <td>Alan Moore/David   Lloyd</td>\n",
       "    </tr>\n",
       "  </tbody>\n",
       "</table>\n",
       "</div>"
      ],
      "text/plain": [
       "   author_id                          author\n",
       "0          1                      A.S. Byatt\n",
       "1          2  Aesop/Laura Harris/Laura Gibbs\n",
       "2          3                 Agatha Christie\n",
       "3          4                   Alan Brennert\n",
       "4          5        Alan Moore/David   Lloyd"
      ]
     },
     "metadata": {},
     "output_type": "display_data"
    }
   ],
   "source": [
    "authors = data['authors']\n",
    "\n",
    "table_info(authors, \"authors\")"
   ]
  },
  {
   "cell_type": "markdown",
   "metadata": {},
   "source": [
    "Пропуски дубликаты в данных не обнаружены."
   ]
  },
  {
   "cell_type": "markdown",
   "metadata": {},
   "source": [
    "### publishers"
   ]
  },
  {
   "cell_type": "code",
   "execution_count": 19,
   "metadata": {},
   "outputs": [
    {
     "data": {
      "text/plain": [
       "'Таблица publishers'"
      ]
     },
     "metadata": {},
     "output_type": "display_data"
    },
    {
     "data": {
      "text/plain": [
       "'Количество строк: 340, Количество столбцов: 2'"
      ]
     },
     "metadata": {},
     "output_type": "display_data"
    },
    {
     "data": {
      "text/plain": [
       "'Столбец: publisher_id'"
      ]
     },
     "metadata": {},
     "output_type": "display_data"
    },
    {
     "data": {
      "text/plain": [
       "'Количество уникальных значений: 340'"
      ]
     },
     "metadata": {},
     "output_type": "display_data"
    },
    {
     "data": {
      "text/plain": [
       "'Тип данных: int64'"
      ]
     },
     "metadata": {},
     "output_type": "display_data"
    },
    {
     "data": {
      "text/plain": [
       "'Столбец: publisher'"
      ]
     },
     "metadata": {},
     "output_type": "display_data"
    },
    {
     "data": {
      "text/plain": [
       "'Количество уникальных значений: 340'"
      ]
     },
     "metadata": {},
     "output_type": "display_data"
    },
    {
     "data": {
      "text/plain": [
       "'Тип данных: object'"
      ]
     },
     "metadata": {},
     "output_type": "display_data"
    },
    {
     "data": {
      "text/plain": [
       "'Количество явных дубликатов: 0'"
      ]
     },
     "metadata": {},
     "output_type": "display_data"
    },
    {
     "data": {
      "text/html": [
       "<style type=\"text/css\">\n",
       "#T_a688a_row0_col0, #T_a688a_row1_col0 {\n",
       "  background-color: #3b4cc0;\n",
       "  color: #f1f1f1;\n",
       "}\n",
       "</style>\n",
       "<table id=\"T_a688a\">\n",
       "  <thead>\n",
       "    <tr>\n",
       "      <th class=\"blank level0\" >&nbsp;</th>\n",
       "      <th id=\"T_a688a_level0_col0\" class=\"col_heading level0 col0\" >0</th>\n",
       "    </tr>\n",
       "  </thead>\n",
       "  <tbody>\n",
       "    <tr>\n",
       "      <th id=\"T_a688a_level0_row0\" class=\"row_heading level0 row0\" >publisher_id</th>\n",
       "      <td id=\"T_a688a_row0_col0\" class=\"data row0 col0\" >0.000000</td>\n",
       "    </tr>\n",
       "    <tr>\n",
       "      <th id=\"T_a688a_level0_row1\" class=\"row_heading level0 row1\" >publisher</th>\n",
       "      <td id=\"T_a688a_row1_col0\" class=\"data row1 col0\" >0.000000</td>\n",
       "    </tr>\n",
       "  </tbody>\n",
       "</table>\n"
      ],
      "text/plain": [
       "<pandas.io.formats.style.Styler at 0x7fb960c43c40>"
      ]
     },
     "metadata": {},
     "output_type": "display_data"
    },
    {
     "data": {
      "text/html": [
       "<div>\n",
       "<style scoped>\n",
       "    .dataframe tbody tr th:only-of-type {\n",
       "        vertical-align: middle;\n",
       "    }\n",
       "\n",
       "    .dataframe tbody tr th {\n",
       "        vertical-align: top;\n",
       "    }\n",
       "\n",
       "    .dataframe thead th {\n",
       "        text-align: right;\n",
       "    }\n",
       "</style>\n",
       "<table border=\"1\" class=\"dataframe\">\n",
       "  <thead>\n",
       "    <tr style=\"text-align: right;\">\n",
       "      <th></th>\n",
       "      <th>publisher_id</th>\n",
       "      <th>publisher</th>\n",
       "    </tr>\n",
       "  </thead>\n",
       "  <tbody>\n",
       "    <tr>\n",
       "      <th>0</th>\n",
       "      <td>1</td>\n",
       "      <td>Ace</td>\n",
       "    </tr>\n",
       "    <tr>\n",
       "      <th>1</th>\n",
       "      <td>2</td>\n",
       "      <td>Ace Book</td>\n",
       "    </tr>\n",
       "    <tr>\n",
       "      <th>2</th>\n",
       "      <td>3</td>\n",
       "      <td>Ace Books</td>\n",
       "    </tr>\n",
       "    <tr>\n",
       "      <th>3</th>\n",
       "      <td>4</td>\n",
       "      <td>Ace Hardcover</td>\n",
       "    </tr>\n",
       "    <tr>\n",
       "      <th>4</th>\n",
       "      <td>5</td>\n",
       "      <td>Addison Wesley Publishing Company</td>\n",
       "    </tr>\n",
       "  </tbody>\n",
       "</table>\n",
       "</div>"
      ],
      "text/plain": [
       "   publisher_id                          publisher\n",
       "0             1                                Ace\n",
       "1             2                           Ace Book\n",
       "2             3                          Ace Books\n",
       "3             4                      Ace Hardcover\n",
       "4             5  Addison Wesley Publishing Company"
      ]
     },
     "metadata": {},
     "output_type": "display_data"
    }
   ],
   "source": [
    "publishers = data['publishers']\n",
    "\n",
    "table_info(publishers, \"publishers\")"
   ]
  },
  {
   "cell_type": "markdown",
   "metadata": {},
   "source": [
    "Пропуски дубликаты в данных не обнаружены."
   ]
  },
  {
   "cell_type": "markdown",
   "metadata": {},
   "source": [
    "### ratings"
   ]
  },
  {
   "cell_type": "code",
   "execution_count": 20,
   "metadata": {},
   "outputs": [
    {
     "data": {
      "text/plain": [
       "'Таблица ratings'"
      ]
     },
     "metadata": {},
     "output_type": "display_data"
    },
    {
     "data": {
      "text/plain": [
       "'Количество строк: 6456, Количество столбцов: 4'"
      ]
     },
     "metadata": {},
     "output_type": "display_data"
    },
    {
     "data": {
      "text/plain": [
       "'Столбец: rating_id'"
      ]
     },
     "metadata": {},
     "output_type": "display_data"
    },
    {
     "data": {
      "text/plain": [
       "'Количество уникальных значений: 6456'"
      ]
     },
     "metadata": {},
     "output_type": "display_data"
    },
    {
     "data": {
      "text/plain": [
       "'Тип данных: int64'"
      ]
     },
     "metadata": {},
     "output_type": "display_data"
    },
    {
     "data": {
      "text/plain": [
       "'Столбец: book_id'"
      ]
     },
     "metadata": {},
     "output_type": "display_data"
    },
    {
     "data": {
      "text/plain": [
       "'Количество уникальных значений: 1000'"
      ]
     },
     "metadata": {},
     "output_type": "display_data"
    },
    {
     "data": {
      "text/plain": [
       "'Тип данных: int64'"
      ]
     },
     "metadata": {},
     "output_type": "display_data"
    },
    {
     "data": {
      "text/plain": [
       "'Столбец: username'"
      ]
     },
     "metadata": {},
     "output_type": "display_data"
    },
    {
     "data": {
      "text/plain": [
       "'Количество уникальных значений: 160'"
      ]
     },
     "metadata": {},
     "output_type": "display_data"
    },
    {
     "data": {
      "text/plain": [
       "'Тип данных: object'"
      ]
     },
     "metadata": {},
     "output_type": "display_data"
    },
    {
     "data": {
      "text/plain": [
       "'Столбец: rating'"
      ]
     },
     "metadata": {},
     "output_type": "display_data"
    },
    {
     "data": {
      "text/plain": [
       "'Количество уникальных значений: 5'"
      ]
     },
     "metadata": {},
     "output_type": "display_data"
    },
    {
     "data": {
      "text/plain": [
       "'Тип данных: int64'"
      ]
     },
     "metadata": {},
     "output_type": "display_data"
    },
    {
     "data": {
      "text/plain": [
       "'Количество явных дубликатов: 0'"
      ]
     },
     "metadata": {},
     "output_type": "display_data"
    },
    {
     "data": {
      "text/html": [
       "<style type=\"text/css\">\n",
       "#T_6ad29_row0_col0, #T_6ad29_row1_col0, #T_6ad29_row2_col0, #T_6ad29_row3_col0 {\n",
       "  background-color: #3b4cc0;\n",
       "  color: #f1f1f1;\n",
       "}\n",
       "</style>\n",
       "<table id=\"T_6ad29\">\n",
       "  <thead>\n",
       "    <tr>\n",
       "      <th class=\"blank level0\" >&nbsp;</th>\n",
       "      <th id=\"T_6ad29_level0_col0\" class=\"col_heading level0 col0\" >0</th>\n",
       "    </tr>\n",
       "  </thead>\n",
       "  <tbody>\n",
       "    <tr>\n",
       "      <th id=\"T_6ad29_level0_row0\" class=\"row_heading level0 row0\" >rating_id</th>\n",
       "      <td id=\"T_6ad29_row0_col0\" class=\"data row0 col0\" >0.000000</td>\n",
       "    </tr>\n",
       "    <tr>\n",
       "      <th id=\"T_6ad29_level0_row1\" class=\"row_heading level0 row1\" >book_id</th>\n",
       "      <td id=\"T_6ad29_row1_col0\" class=\"data row1 col0\" >0.000000</td>\n",
       "    </tr>\n",
       "    <tr>\n",
       "      <th id=\"T_6ad29_level0_row2\" class=\"row_heading level0 row2\" >username</th>\n",
       "      <td id=\"T_6ad29_row2_col0\" class=\"data row2 col0\" >0.000000</td>\n",
       "    </tr>\n",
       "    <tr>\n",
       "      <th id=\"T_6ad29_level0_row3\" class=\"row_heading level0 row3\" >rating</th>\n",
       "      <td id=\"T_6ad29_row3_col0\" class=\"data row3 col0\" >0.000000</td>\n",
       "    </tr>\n",
       "  </tbody>\n",
       "</table>\n"
      ],
      "text/plain": [
       "<pandas.io.formats.style.Styler at 0x7fb971a858e0>"
      ]
     },
     "metadata": {},
     "output_type": "display_data"
    },
    {
     "data": {
      "text/html": [
       "<div>\n",
       "<style scoped>\n",
       "    .dataframe tbody tr th:only-of-type {\n",
       "        vertical-align: middle;\n",
       "    }\n",
       "\n",
       "    .dataframe tbody tr th {\n",
       "        vertical-align: top;\n",
       "    }\n",
       "\n",
       "    .dataframe thead th {\n",
       "        text-align: right;\n",
       "    }\n",
       "</style>\n",
       "<table border=\"1\" class=\"dataframe\">\n",
       "  <thead>\n",
       "    <tr style=\"text-align: right;\">\n",
       "      <th></th>\n",
       "      <th>rating_id</th>\n",
       "      <th>book_id</th>\n",
       "      <th>username</th>\n",
       "      <th>rating</th>\n",
       "    </tr>\n",
       "  </thead>\n",
       "  <tbody>\n",
       "    <tr>\n",
       "      <th>0</th>\n",
       "      <td>1</td>\n",
       "      <td>1</td>\n",
       "      <td>ryanfranco</td>\n",
       "      <td>4</td>\n",
       "    </tr>\n",
       "    <tr>\n",
       "      <th>1</th>\n",
       "      <td>2</td>\n",
       "      <td>1</td>\n",
       "      <td>grantpatricia</td>\n",
       "      <td>2</td>\n",
       "    </tr>\n",
       "    <tr>\n",
       "      <th>2</th>\n",
       "      <td>3</td>\n",
       "      <td>1</td>\n",
       "      <td>brandtandrea</td>\n",
       "      <td>5</td>\n",
       "    </tr>\n",
       "    <tr>\n",
       "      <th>3</th>\n",
       "      <td>4</td>\n",
       "      <td>2</td>\n",
       "      <td>lorichen</td>\n",
       "      <td>3</td>\n",
       "    </tr>\n",
       "    <tr>\n",
       "      <th>4</th>\n",
       "      <td>5</td>\n",
       "      <td>2</td>\n",
       "      <td>mariokeller</td>\n",
       "      <td>2</td>\n",
       "    </tr>\n",
       "  </tbody>\n",
       "</table>\n",
       "</div>"
      ],
      "text/plain": [
       "   rating_id  book_id       username  rating\n",
       "0          1        1     ryanfranco       4\n",
       "1          2        1  grantpatricia       2\n",
       "2          3        1   brandtandrea       5\n",
       "3          4        2       lorichen       3\n",
       "4          5        2    mariokeller       2"
      ]
     },
     "metadata": {},
     "output_type": "display_data"
    }
   ],
   "source": [
    "ratings = data['ratings']\n",
    "\n",
    "table_info(ratings, \"ratings\")"
   ]
  },
  {
   "cell_type": "markdown",
   "metadata": {},
   "source": [
    "Пропуски дубликаты в данных не обнаружены."
   ]
  },
  {
   "cell_type": "markdown",
   "metadata": {},
   "source": [
    "### reviews"
   ]
  },
  {
   "cell_type": "code",
   "execution_count": 21,
   "metadata": {},
   "outputs": [
    {
     "data": {
      "text/plain": [
       "'Таблица reviews'"
      ]
     },
     "metadata": {},
     "output_type": "display_data"
    },
    {
     "data": {
      "text/plain": [
       "'Количество строк: 2793, Количество столбцов: 4'"
      ]
     },
     "metadata": {},
     "output_type": "display_data"
    },
    {
     "data": {
      "text/plain": [
       "'Столбец: review_id'"
      ]
     },
     "metadata": {},
     "output_type": "display_data"
    },
    {
     "data": {
      "text/plain": [
       "'Количество уникальных значений: 2793'"
      ]
     },
     "metadata": {},
     "output_type": "display_data"
    },
    {
     "data": {
      "text/plain": [
       "'Тип данных: int64'"
      ]
     },
     "metadata": {},
     "output_type": "display_data"
    },
    {
     "data": {
      "text/plain": [
       "'Столбец: book_id'"
      ]
     },
     "metadata": {},
     "output_type": "display_data"
    },
    {
     "data": {
      "text/plain": [
       "'Количество уникальных значений: 994'"
      ]
     },
     "metadata": {},
     "output_type": "display_data"
    },
    {
     "data": {
      "text/plain": [
       "'Тип данных: int64'"
      ]
     },
     "metadata": {},
     "output_type": "display_data"
    },
    {
     "data": {
      "text/plain": [
       "'Столбец: username'"
      ]
     },
     "metadata": {},
     "output_type": "display_data"
    },
    {
     "data": {
      "text/plain": [
       "'Количество уникальных значений: 160'"
      ]
     },
     "metadata": {},
     "output_type": "display_data"
    },
    {
     "data": {
      "text/plain": [
       "'Тип данных: object'"
      ]
     },
     "metadata": {},
     "output_type": "display_data"
    },
    {
     "data": {
      "text/plain": [
       "'Столбец: text'"
      ]
     },
     "metadata": {},
     "output_type": "display_data"
    },
    {
     "data": {
      "text/plain": [
       "'Количество уникальных значений: 2793'"
      ]
     },
     "metadata": {},
     "output_type": "display_data"
    },
    {
     "data": {
      "text/plain": [
       "'Тип данных: object'"
      ]
     },
     "metadata": {},
     "output_type": "display_data"
    },
    {
     "data": {
      "text/plain": [
       "'Количество явных дубликатов: 0'"
      ]
     },
     "metadata": {},
     "output_type": "display_data"
    },
    {
     "data": {
      "text/html": [
       "<style type=\"text/css\">\n",
       "#T_bf93b_row0_col0, #T_bf93b_row1_col0, #T_bf93b_row2_col0, #T_bf93b_row3_col0 {\n",
       "  background-color: #3b4cc0;\n",
       "  color: #f1f1f1;\n",
       "}\n",
       "</style>\n",
       "<table id=\"T_bf93b\">\n",
       "  <thead>\n",
       "    <tr>\n",
       "      <th class=\"blank level0\" >&nbsp;</th>\n",
       "      <th id=\"T_bf93b_level0_col0\" class=\"col_heading level0 col0\" >0</th>\n",
       "    </tr>\n",
       "  </thead>\n",
       "  <tbody>\n",
       "    <tr>\n",
       "      <th id=\"T_bf93b_level0_row0\" class=\"row_heading level0 row0\" >review_id</th>\n",
       "      <td id=\"T_bf93b_row0_col0\" class=\"data row0 col0\" >0.000000</td>\n",
       "    </tr>\n",
       "    <tr>\n",
       "      <th id=\"T_bf93b_level0_row1\" class=\"row_heading level0 row1\" >book_id</th>\n",
       "      <td id=\"T_bf93b_row1_col0\" class=\"data row1 col0\" >0.000000</td>\n",
       "    </tr>\n",
       "    <tr>\n",
       "      <th id=\"T_bf93b_level0_row2\" class=\"row_heading level0 row2\" >username</th>\n",
       "      <td id=\"T_bf93b_row2_col0\" class=\"data row2 col0\" >0.000000</td>\n",
       "    </tr>\n",
       "    <tr>\n",
       "      <th id=\"T_bf93b_level0_row3\" class=\"row_heading level0 row3\" >text</th>\n",
       "      <td id=\"T_bf93b_row3_col0\" class=\"data row3 col0\" >0.000000</td>\n",
       "    </tr>\n",
       "  </tbody>\n",
       "</table>\n"
      ],
      "text/plain": [
       "<pandas.io.formats.style.Styler at 0x7fb971a85ee0>"
      ]
     },
     "metadata": {},
     "output_type": "display_data"
    },
    {
     "data": {
      "text/html": [
       "<div>\n",
       "<style scoped>\n",
       "    .dataframe tbody tr th:only-of-type {\n",
       "        vertical-align: middle;\n",
       "    }\n",
       "\n",
       "    .dataframe tbody tr th {\n",
       "        vertical-align: top;\n",
       "    }\n",
       "\n",
       "    .dataframe thead th {\n",
       "        text-align: right;\n",
       "    }\n",
       "</style>\n",
       "<table border=\"1\" class=\"dataframe\">\n",
       "  <thead>\n",
       "    <tr style=\"text-align: right;\">\n",
       "      <th></th>\n",
       "      <th>review_id</th>\n",
       "      <th>book_id</th>\n",
       "      <th>username</th>\n",
       "      <th>text</th>\n",
       "    </tr>\n",
       "  </thead>\n",
       "  <tbody>\n",
       "    <tr>\n",
       "      <th>0</th>\n",
       "      <td>1</td>\n",
       "      <td>1</td>\n",
       "      <td>brandtandrea</td>\n",
       "      <td>Mention society tell send professor analysis. ...</td>\n",
       "    </tr>\n",
       "    <tr>\n",
       "      <th>1</th>\n",
       "      <td>2</td>\n",
       "      <td>1</td>\n",
       "      <td>ryanfranco</td>\n",
       "      <td>Foot glass pretty audience hit themselves. Amo...</td>\n",
       "    </tr>\n",
       "    <tr>\n",
       "      <th>2</th>\n",
       "      <td>3</td>\n",
       "      <td>2</td>\n",
       "      <td>lorichen</td>\n",
       "      <td>Listen treat keep worry. Miss husband tax but ...</td>\n",
       "    </tr>\n",
       "    <tr>\n",
       "      <th>3</th>\n",
       "      <td>4</td>\n",
       "      <td>3</td>\n",
       "      <td>johnsonamanda</td>\n",
       "      <td>Finally month interesting blue could nature cu...</td>\n",
       "    </tr>\n",
       "    <tr>\n",
       "      <th>4</th>\n",
       "      <td>5</td>\n",
       "      <td>3</td>\n",
       "      <td>scotttamara</td>\n",
       "      <td>Nation purpose heavy give wait song will. List...</td>\n",
       "    </tr>\n",
       "  </tbody>\n",
       "</table>\n",
       "</div>"
      ],
      "text/plain": [
       "   review_id  book_id       username  \\\n",
       "0          1        1   brandtandrea   \n",
       "1          2        1     ryanfranco   \n",
       "2          3        2       lorichen   \n",
       "3          4        3  johnsonamanda   \n",
       "4          5        3    scotttamara   \n",
       "\n",
       "                                                text  \n",
       "0  Mention society tell send professor analysis. ...  \n",
       "1  Foot glass pretty audience hit themselves. Amo...  \n",
       "2  Listen treat keep worry. Miss husband tax but ...  \n",
       "3  Finally month interesting blue could nature cu...  \n",
       "4  Nation purpose heavy give wait song will. List...  "
      ]
     },
     "metadata": {},
     "output_type": "display_data"
    }
   ],
   "source": [
    "reviews = data['reviews']\n",
    "\n",
    "table_info(reviews, \"reviews\")"
   ]
  },
  {
   "cell_type": "markdown",
   "metadata": {},
   "source": [
    "В нашем распоряжении база данных состоящая из пяти таблиц:\n",
    "\n",
    "- books\n",
    "- authors\n",
    "- publishers\n",
    "- ratings\n",
    "- reviews\n",
    "\n",
    "Пропуски дубликаты в таблицах не обнаружены."
   ]
  },
  {
   "cell_type": "markdown",
   "metadata": {},
   "source": [
    "## Запросы"
   ]
  },
  {
   "cell_type": "markdown",
   "metadata": {},
   "source": [
    "### Посчитайте, сколько книг вышло после 1 января 2000 года"
   ]
  },
  {
   "cell_type": "code",
   "execution_count": 22,
   "metadata": {},
   "outputs": [
    {
     "data": {
      "text/plain": [
       "'После 1 января 2000 года вышло 819 книг'"
      ]
     },
     "metadata": {},
     "output_type": "display_data"
    }
   ],
   "source": [
    "query_1 = ''' \n",
    "SELECT COUNT(*) \n",
    "FROM books\n",
    "WHERE publication_date > '2000-1-1'; \n",
    "''' \n",
    "\n",
    "req_1 = pd.io.sql.read_sql(query_1, con = engine)\n",
    "req_1\n",
    "display(f'После 1 января 2000 года вышло {req_1.iloc[0,0]} книг')"
   ]
  },
  {
   "cell_type": "markdown",
   "metadata": {},
   "source": [
    "### Для каждой книги посчитайте количество обзоров и среднюю оценку"
   ]
  },
  {
   "cell_type": "code",
   "execution_count": 23,
   "metadata": {},
   "outputs": [
    {
     "data": {
      "text/html": [
       "<div>\n",
       "<style scoped>\n",
       "    .dataframe tbody tr th:only-of-type {\n",
       "        vertical-align: middle;\n",
       "    }\n",
       "\n",
       "    .dataframe tbody tr th {\n",
       "        vertical-align: top;\n",
       "    }\n",
       "\n",
       "    .dataframe thead th {\n",
       "        text-align: right;\n",
       "    }\n",
       "</style>\n",
       "<table border=\"1\" class=\"dataframe\">\n",
       "  <thead>\n",
       "    <tr style=\"text-align: right;\">\n",
       "      <th></th>\n",
       "      <th>book_name</th>\n",
       "      <th>reviews</th>\n",
       "      <th>avg_rating</th>\n",
       "    </tr>\n",
       "  </thead>\n",
       "  <tbody>\n",
       "    <tr>\n",
       "      <th>0</th>\n",
       "      <td>Pop Goes the Weasel (Alex Cross  #5)</td>\n",
       "      <td>2.0</td>\n",
       "      <td>5.00</td>\n",
       "    </tr>\n",
       "    <tr>\n",
       "      <th>1</th>\n",
       "      <td>The Ghost Map: The Story of London's Most Terr...</td>\n",
       "      <td>2.0</td>\n",
       "      <td>5.00</td>\n",
       "    </tr>\n",
       "    <tr>\n",
       "      <th>2</th>\n",
       "      <td>In the Hand of the Goddess (Song of the Liones...</td>\n",
       "      <td>2.0</td>\n",
       "      <td>5.00</td>\n",
       "    </tr>\n",
       "    <tr>\n",
       "      <th>3</th>\n",
       "      <td>Tai-Pan (Asian Saga  #2)</td>\n",
       "      <td>2.0</td>\n",
       "      <td>5.00</td>\n",
       "    </tr>\n",
       "    <tr>\n",
       "      <th>4</th>\n",
       "      <td>How to Be a Domestic Goddess: Baking and the A...</td>\n",
       "      <td>1.0</td>\n",
       "      <td>5.00</td>\n",
       "    </tr>\n",
       "    <tr>\n",
       "      <th>...</th>\n",
       "      <td>...</td>\n",
       "      <td>...</td>\n",
       "      <td>...</td>\n",
       "    </tr>\n",
       "    <tr>\n",
       "      <th>995</th>\n",
       "      <td>The World Is Flat: A Brief History of the Twen...</td>\n",
       "      <td>3.0</td>\n",
       "      <td>2.25</td>\n",
       "    </tr>\n",
       "    <tr>\n",
       "      <th>996</th>\n",
       "      <td>Junky</td>\n",
       "      <td>2.0</td>\n",
       "      <td>2.00</td>\n",
       "    </tr>\n",
       "    <tr>\n",
       "      <th>997</th>\n",
       "      <td>His Excellency: George Washington</td>\n",
       "      <td>2.0</td>\n",
       "      <td>2.00</td>\n",
       "    </tr>\n",
       "    <tr>\n",
       "      <th>998</th>\n",
       "      <td>Drowning Ruth</td>\n",
       "      <td>3.0</td>\n",
       "      <td>2.00</td>\n",
       "    </tr>\n",
       "    <tr>\n",
       "      <th>999</th>\n",
       "      <td>Harvesting the Heart</td>\n",
       "      <td>2.0</td>\n",
       "      <td>1.50</td>\n",
       "    </tr>\n",
       "  </tbody>\n",
       "</table>\n",
       "<p>1000 rows × 3 columns</p>\n",
       "</div>"
      ],
      "text/plain": [
       "                                             book_name  reviews  avg_rating\n",
       "0                 Pop Goes the Weasel (Alex Cross  #5)      2.0        5.00\n",
       "1    The Ghost Map: The Story of London's Most Terr...      2.0        5.00\n",
       "2    In the Hand of the Goddess (Song of the Liones...      2.0        5.00\n",
       "3                             Tai-Pan (Asian Saga  #2)      2.0        5.00\n",
       "4    How to Be a Domestic Goddess: Baking and the A...      1.0        5.00\n",
       "..                                                 ...      ...         ...\n",
       "995  The World Is Flat: A Brief History of the Twen...      3.0        2.25\n",
       "996                                              Junky      2.0        2.00\n",
       "997                  His Excellency: George Washington      2.0        2.00\n",
       "998                                      Drowning Ruth      3.0        2.00\n",
       "999                               Harvesting the Heart      2.0        1.50\n",
       "\n",
       "[1000 rows x 3 columns]"
      ]
     },
     "execution_count": 23,
     "metadata": {},
     "output_type": "execute_result"
    }
   ],
   "source": [
    "query_2 = ''' \n",
    "\n",
    "SELECT \n",
    "    books.title AS book_name,\n",
    "    sub_rev.n_rev AS reviews,\n",
    "    sub_rat.avg_rat AS avg_rating\n",
    "FROM books LEFT JOIN \n",
    "                (SELECT\n",
    "                    book_id,\n",
    "                    AVG(rating) AS avg_rat\n",
    "                FROM\n",
    "                    ratings\n",
    "                GROUP BY \n",
    "                    book_id\n",
    "                ) AS sub_rat ON sub_rat.book_id = books.book_id\n",
    "        LEFT JOIN\n",
    "                (SELECT \n",
    "                    book_id,\n",
    "                    COUNT(review_id) AS n_rev\n",
    "                FROM\n",
    "                    reviews\n",
    "                GROUP BY \n",
    "                    book_id\n",
    "                ) AS sub_rev ON sub_rev.book_id = books.book_id\n",
    "ORDER BY avg_rating DESC               \n",
    "; ''' \n",
    "\n",
    "req_2 = pd.io.sql.read_sql(query_2, con = engine)\n",
    "req_2"
   ]
  },
  {
   "cell_type": "markdown",
   "metadata": {},
   "source": [
    "Для каждой книги посчитано количество обзоров и средняя оценка."
   ]
  },
  {
   "cell_type": "markdown",
   "metadata": {},
   "source": [
    "### Определите издательство, которое выпустило наибольшее число книг толще 50 страниц"
   ]
  },
  {
   "cell_type": "code",
   "execution_count": 11,
   "metadata": {},
   "outputs": [
    {
     "data": {
      "text/html": [
       "<div>\n",
       "<style scoped>\n",
       "    .dataframe tbody tr th:only-of-type {\n",
       "        vertical-align: middle;\n",
       "    }\n",
       "\n",
       "    .dataframe tbody tr th {\n",
       "        vertical-align: top;\n",
       "    }\n",
       "\n",
       "    .dataframe thead th {\n",
       "        text-align: right;\n",
       "    }\n",
       "</style>\n",
       "<table border=\"1\" class=\"dataframe\">\n",
       "  <thead>\n",
       "    <tr style=\"text-align: right;\">\n",
       "      <th></th>\n",
       "      <th>publisher_id</th>\n",
       "      <th>publisher</th>\n",
       "      <th>n_books</th>\n",
       "    </tr>\n",
       "  </thead>\n",
       "  <tbody>\n",
       "    <tr>\n",
       "      <th>0</th>\n",
       "      <td>212</td>\n",
       "      <td>Penguin Books</td>\n",
       "      <td>42</td>\n",
       "    </tr>\n",
       "  </tbody>\n",
       "</table>\n",
       "</div>"
      ],
      "text/plain": [
       "   publisher_id      publisher  n_books\n",
       "0           212  Penguin Books       42"
      ]
     },
     "execution_count": 11,
     "metadata": {},
     "output_type": "execute_result"
    }
   ],
   "source": [
    "query_3 = ''' \n",
    "SELECT\n",
    "    P.publisher_id,\n",
    "    P.publisher,\n",
    "    P.n_books\n",
    "FROM\n",
    "    (SELECT \n",
    "        books.publisher_id AS publisher_id,\n",
    "        COUNT(books.book_id) AS n_books,\n",
    "        publishers.publisher AS publisher \n",
    "    FROM \n",
    "        books \n",
    "        LEFT JOIN publishers ON books.publisher_id=publishers.publisher_id\n",
    "\n",
    "    WHERE \n",
    "        num_pages>50\n",
    "    GROUP BY\n",
    "        books.publisher_id,\n",
    "        publishers.publisher\n",
    "    ORDER BY \n",
    "        n_books DESC) AS P\n",
    "LIMIT 1\n",
    "; ''' \n",
    "\n",
    "req_3 = pd.io.sql.read_sql(query_3, con = engine)\n",
    "req_3"
   ]
  },
  {
   "cell_type": "markdown",
   "metadata": {},
   "source": [
    "Издательство Penguin Books выпустило наибольшее число книг толще 50 страниц."
   ]
  },
  {
   "cell_type": "markdown",
   "metadata": {},
   "source": [
    "### Определите автора с самой высокой средней оценкой книг — учитывайте только книги с 50 и более оценками"
   ]
  },
  {
   "cell_type": "code",
   "execution_count": 12,
   "metadata": {},
   "outputs": [
    {
     "data": {
      "text/html": [
       "<div>\n",
       "<style scoped>\n",
       "    .dataframe tbody tr th:only-of-type {\n",
       "        vertical-align: middle;\n",
       "    }\n",
       "\n",
       "    .dataframe tbody tr th {\n",
       "        vertical-align: top;\n",
       "    }\n",
       "\n",
       "    .dataframe thead th {\n",
       "        text-align: right;\n",
       "    }\n",
       "</style>\n",
       "<table border=\"1\" class=\"dataframe\">\n",
       "  <thead>\n",
       "    <tr style=\"text-align: right;\">\n",
       "      <th></th>\n",
       "      <th>author</th>\n",
       "      <th>avg_avg_rating</th>\n",
       "    </tr>\n",
       "  </thead>\n",
       "  <tbody>\n",
       "    <tr>\n",
       "      <th>0</th>\n",
       "      <td>J.K. Rowling/Mary GrandPré</td>\n",
       "      <td>4.283844</td>\n",
       "    </tr>\n",
       "    <tr>\n",
       "      <th>1</th>\n",
       "      <td>Markus Zusak/Cao Xuân Việt Khương</td>\n",
       "      <td>4.264151</td>\n",
       "    </tr>\n",
       "    <tr>\n",
       "      <th>2</th>\n",
       "      <td>J.R.R. Tolkien</td>\n",
       "      <td>4.258446</td>\n",
       "    </tr>\n",
       "    <tr>\n",
       "      <th>3</th>\n",
       "      <td>Louisa May Alcott</td>\n",
       "      <td>4.192308</td>\n",
       "    </tr>\n",
       "    <tr>\n",
       "      <th>4</th>\n",
       "      <td>Rick Riordan</td>\n",
       "      <td>4.080645</td>\n",
       "    </tr>\n",
       "  </tbody>\n",
       "</table>\n",
       "</div>"
      ],
      "text/plain": [
       "                              author  avg_avg_rating\n",
       "0         J.K. Rowling/Mary GrandPré        4.283844\n",
       "1  Markus Zusak/Cao Xuân Việt Khương        4.264151\n",
       "2                     J.R.R. Tolkien        4.258446\n",
       "3                  Louisa May Alcott        4.192308\n",
       "4                       Rick Riordan        4.080645"
      ]
     },
     "execution_count": 12,
     "metadata": {},
     "output_type": "execute_result"
    }
   ],
   "source": [
    "query_4 = ''' \n",
    "SELECT \n",
    "    aut_avg.author,\n",
    "    AVG(aut_avg.avg_rating) AS avg_avg_rating\n",
    "FROM\n",
    "        (SELECT \n",
    "            authors.author AS author,\n",
    "            AVG(ratings.rating) AS avg_rating\n",
    "        FROM books\n",
    "            LEFT JOIN authors ON books.author_id = authors.author_id\n",
    "            LEFT JOIN ratings ON books.book_id = ratings.book_id\n",
    "        GROUP BY \n",
    "             books.book_id,\n",
    "             authors.author_id\n",
    "        HAVING\n",
    "            COUNT(ratings.rating_id) >=50 \n",
    "        ) AS aut_avg \n",
    "GROUP BY    \n",
    "    aut_avg.author\n",
    "ORDER BY\n",
    "    avg_avg_rating DESC\n",
    "LIMIT 5\n",
    "    \n",
    "; ''' \n",
    "\n",
    "req_4 = pd.io.sql.read_sql(query_4, con = engine)\n",
    "req_4"
   ]
  },
  {
   "cell_type": "markdown",
   "metadata": {},
   "source": [
    "Автор с самой высокой средней оценков книг - J.K. Rowling/Mary GrandPré (учитаны только книги с 50 и более оценками)."
   ]
  },
  {
   "cell_type": "markdown",
   "metadata": {},
   "source": [
    "### Посчитайте среднее количество обзоров от пользователей, которые поставили больше 50 оценок"
   ]
  },
  {
   "cell_type": "code",
   "execution_count": 13,
   "metadata": {},
   "outputs": [
    {
     "data": {
      "text/html": [
       "<div>\n",
       "<style scoped>\n",
       "    .dataframe tbody tr th:only-of-type {\n",
       "        vertical-align: middle;\n",
       "    }\n",
       "\n",
       "    .dataframe tbody tr th {\n",
       "        vertical-align: top;\n",
       "    }\n",
       "\n",
       "    .dataframe thead th {\n",
       "        text-align: right;\n",
       "    }\n",
       "</style>\n",
       "<table border=\"1\" class=\"dataframe\">\n",
       "  <thead>\n",
       "    <tr style=\"text-align: right;\">\n",
       "      <th></th>\n",
       "      <th>avg</th>\n",
       "    </tr>\n",
       "  </thead>\n",
       "  <tbody>\n",
       "    <tr>\n",
       "      <th>0</th>\n",
       "      <td>24.333333</td>\n",
       "    </tr>\n",
       "  </tbody>\n",
       "</table>\n",
       "</div>"
      ],
      "text/plain": [
       "         avg\n",
       "0  24.333333"
      ]
     },
     "execution_count": 13,
     "metadata": {},
     "output_type": "execute_result"
    }
   ],
   "source": [
    "query_5 = ''' \n",
    "\n",
    "SELECT\n",
    "    AVG(Sub.n_reviews)\n",
    "FROM\n",
    "    (SELECT\n",
    "        username,\n",
    "        COUNT(review_id) AS n_reviews\n",
    "    FROM\n",
    "        reviews\n",
    "    WHERE \n",
    "        username IN (\n",
    "                SELECT \n",
    "                    username\n",
    "                FROM \n",
    "                    ratings\n",
    "                GROUP BY \n",
    "                    username\n",
    "                HAVING \n",
    "                    COUNT(rating_id) > 50\n",
    "                    )\n",
    "    GROUP BY \n",
    "        username\n",
    "    ) AS Sub\n",
    "; ''' \n",
    "\n",
    "req_5 = pd.io.sql.read_sql(query_5, con = engine)\n",
    "req_5"
   ]
  },
  {
   "cell_type": "markdown",
   "metadata": {},
   "source": [
    "Среднее количество обзоров от пользователей, которые поставили больше 50 оценок - 24,33. "
   ]
  },
  {
   "cell_type": "markdown",
   "metadata": {},
   "source": [
    "# Выводы:"
   ]
  },
  {
   "cell_type": "markdown",
   "metadata": {},
   "source": [
    "При анализе базы данных купленного сервиса для чтения книг, были выявлено следующее :\n",
    "\n",
    "- Пропуски дубликаты в таблицах не обнаружены.\n",
    "\n",
    "- После 1 января 2000 года вышло 819 книг.\n",
    "\n",
    "- Для каждой книги посчитано количество обзоров и средняя оценка:\n",
    "\n",
    "- - 0   Pop Goes the Weasel (Alex Cross #5)\t\t2.0\t5.00\n",
    "\n",
    "- - 1\tThe Ghost Map: The Story of London's Most Terr...\t\t2.0\t5.00\n",
    "\n",
    "- - 2\tIn the Hand of the Goddess (Song of the Liones...\t\t2.0\t5.00\n",
    "\n",
    "- - 3\tTai-Pan (Asian Saga #2)\t610\t2.0\t5.00\n",
    "\n",
    "- - 4\tHow to Be a Domestic Goddess: Baking and the A...\t\t1.0\t5.00\n",
    "\n",
    "...\t...\t...\t...\t...\n",
    "\n",
    "- - 995\tThe World Is Flat: A Brief History of the Twen...\t\t3.0\t2.25\n",
    "\n",
    "- - 996\tJunky\t\t2.0\t2.00\n",
    "\n",
    "- - 997\tHis Excellency: George Washington\t\t2.0\t2.00\n",
    "\n",
    "- - 998\tDrowning Ruth\t\t3.0\t2.00\n",
    "\n",
    "- - 999\tHarvesting the Heart\t\t2.0\t1.50\n",
    "\n",
    "- Издательство Penguin Books выпустило наибольшее число книг толще 50 страниц - 42 книги.\n",
    "\n",
    "- Автор с самой высокой средней оценков книг - J.K. Rowling/Mary GrandPré (учитаны только книги с 50 и более оценками).\n",
    "\n",
    "- Среднее количество обзоров от пользователей, которые поставили больше 50 оценок - 24,33."
   ]
  },
  {
   "cell_type": "code",
   "execution_count": null,
   "metadata": {},
   "outputs": [],
   "source": []
  }
 ],
 "metadata": {
  "ExecuteTimeLog": [
   {
    "duration": 441,
    "start_time": "2023-04-07T12:57:03.378Z"
   },
   {
    "duration": 15981,
    "start_time": "2023-04-07T12:58:13.168Z"
   },
   {
    "duration": 594,
    "start_time": "2023-04-07T13:00:05.081Z"
   },
   {
    "duration": 602,
    "start_time": "2023-04-07T13:00:24.639Z"
   },
   {
    "duration": 378,
    "start_time": "2023-04-07T13:00:38.128Z"
   },
   {
    "duration": 87,
    "start_time": "2023-04-07T13:01:45.754Z"
   },
   {
    "duration": 88,
    "start_time": "2023-04-07T13:04:12.347Z"
   },
   {
    "duration": 8,
    "start_time": "2023-04-07T13:04:56.577Z"
   },
   {
    "duration": 8,
    "start_time": "2023-04-07T13:05:03.439Z"
   },
   {
    "duration": 10,
    "start_time": "2023-04-07T13:05:58.368Z"
   },
   {
    "duration": 4,
    "start_time": "2023-04-07T13:07:58.018Z"
   },
   {
    "duration": 5,
    "start_time": "2023-04-07T13:08:57.399Z"
   },
   {
    "duration": 6,
    "start_time": "2023-04-07T13:09:17.817Z"
   },
   {
    "duration": 77,
    "start_time": "2023-04-07T13:12:22.319Z"
   },
   {
    "duration": 76,
    "start_time": "2023-04-07T13:12:33.633Z"
   },
   {
    "duration": 9,
    "start_time": "2023-04-07T13:12:37.923Z"
   },
   {
    "duration": 6,
    "start_time": "2023-04-07T13:12:51.981Z"
   },
   {
    "duration": 5,
    "start_time": "2023-04-07T13:13:12.853Z"
   },
   {
    "duration": 5,
    "start_time": "2023-04-07T13:13:26.250Z"
   },
   {
    "duration": 465,
    "start_time": "2023-04-07T13:13:46.670Z"
   },
   {
    "duration": 14724,
    "start_time": "2023-04-07T13:13:47.137Z"
   },
   {
    "duration": 70,
    "start_time": "2023-04-07T13:14:01.863Z"
   },
   {
    "duration": 11,
    "start_time": "2023-04-07T13:14:01.936Z"
   },
   {
    "duration": 46,
    "start_time": "2023-04-07T13:14:01.948Z"
   },
   {
    "duration": 31,
    "start_time": "2023-04-07T13:14:01.995Z"
   },
   {
    "duration": 49,
    "start_time": "2023-04-07T13:14:02.028Z"
   },
   {
    "duration": 48,
    "start_time": "2023-04-07T13:14:02.079Z"
   },
   {
    "duration": 97,
    "start_time": "2023-04-07T13:14:02.128Z"
   },
   {
    "duration": 10,
    "start_time": "2023-04-07T13:14:02.227Z"
   },
   {
    "duration": 25,
    "start_time": "2023-04-07T13:14:02.238Z"
   },
   {
    "duration": 41,
    "start_time": "2023-04-07T13:14:02.264Z"
   },
   {
    "duration": 12,
    "start_time": "2023-04-07T13:14:02.307Z"
   },
   {
    "duration": 67,
    "start_time": "2023-04-07T13:14:32.164Z"
   },
   {
    "duration": 11,
    "start_time": "2023-04-07T13:14:52.953Z"
   },
   {
    "duration": 7,
    "start_time": "2023-04-07T13:14:58.270Z"
   },
   {
    "duration": 5,
    "start_time": "2023-04-07T13:15:03.051Z"
   },
   {
    "duration": 4,
    "start_time": "2023-04-07T13:15:07.044Z"
   },
   {
    "duration": 117,
    "start_time": "2023-04-07T13:15:42.898Z"
   },
   {
    "duration": 163,
    "start_time": "2023-04-07T13:16:08.304Z"
   },
   {
    "duration": 9,
    "start_time": "2023-04-07T13:16:10.211Z"
   },
   {
    "duration": 7,
    "start_time": "2023-04-07T13:16:14.620Z"
   },
   {
    "duration": 6,
    "start_time": "2023-04-07T13:16:17.248Z"
   },
   {
    "duration": 7,
    "start_time": "2023-04-07T13:16:19.171Z"
   },
   {
    "duration": 134,
    "start_time": "2023-04-07T13:16:27.017Z"
   },
   {
    "duration": 110,
    "start_time": "2023-04-07T13:16:57.196Z"
   },
   {
    "duration": 6,
    "start_time": "2023-04-07T13:17:23.984Z"
   },
   {
    "duration": 112,
    "start_time": "2023-04-07T13:17:27.091Z"
   },
   {
    "duration": 10,
    "start_time": "2023-04-07T13:17:28.941Z"
   },
   {
    "duration": 7,
    "start_time": "2023-04-07T13:17:32.625Z"
   },
   {
    "duration": 5,
    "start_time": "2023-04-07T13:17:36.746Z"
   },
   {
    "duration": 6,
    "start_time": "2023-04-07T13:17:38.976Z"
   },
   {
    "duration": 480,
    "start_time": "2023-04-07T13:17:43.955Z"
   },
   {
    "duration": 19880,
    "start_time": "2023-04-07T13:17:44.436Z"
   },
   {
    "duration": 70,
    "start_time": "2023-04-07T13:18:04.317Z"
   },
   {
    "duration": 10,
    "start_time": "2023-04-07T13:18:04.389Z"
   },
   {
    "duration": 19,
    "start_time": "2023-04-07T13:18:04.400Z"
   },
   {
    "duration": 6,
    "start_time": "2023-04-07T13:18:04.420Z"
   },
   {
    "duration": 8,
    "start_time": "2023-04-07T13:18:04.427Z"
   },
   {
    "duration": 14,
    "start_time": "2023-04-07T13:18:04.436Z"
   },
   {
    "duration": 79,
    "start_time": "2023-04-07T13:18:04.451Z"
   },
   {
    "duration": 9,
    "start_time": "2023-04-07T13:18:04.532Z"
   },
   {
    "duration": 20,
    "start_time": "2023-04-07T13:18:04.542Z"
   },
   {
    "duration": 7,
    "start_time": "2023-04-07T13:18:04.563Z"
   },
   {
    "duration": 6,
    "start_time": "2023-04-07T13:18:04.571Z"
   },
   {
    "duration": 68,
    "start_time": "2023-04-07T13:18:04.579Z"
   },
   {
    "duration": 8,
    "start_time": "2023-04-07T13:18:04.649Z"
   },
   {
    "duration": 12,
    "start_time": "2023-04-07T13:18:04.659Z"
   },
   {
    "duration": 7,
    "start_time": "2023-04-07T13:18:04.672Z"
   },
   {
    "duration": 12,
    "start_time": "2023-04-07T13:18:04.680Z"
   },
   {
    "duration": 87,
    "start_time": "2023-04-07T13:18:04.693Z"
   },
   {
    "duration": 10,
    "start_time": "2023-04-07T13:18:04.782Z"
   },
   {
    "duration": 10,
    "start_time": "2023-04-07T13:18:04.793Z"
   },
   {
    "duration": 26,
    "start_time": "2023-04-07T13:18:04.804Z"
   },
   {
    "duration": 16,
    "start_time": "2023-04-07T13:18:04.831Z"
   },
   {
    "duration": 85,
    "start_time": "2023-04-07T13:18:04.848Z"
   },
   {
    "duration": 10,
    "start_time": "2023-04-07T13:18:04.934Z"
   },
   {
    "duration": 16,
    "start_time": "2023-04-07T13:18:04.945Z"
   },
   {
    "duration": 13,
    "start_time": "2023-04-07T13:18:04.962Z"
   },
   {
    "duration": 12,
    "start_time": "2023-04-07T13:18:04.977Z"
   },
   {
    "duration": 504,
    "start_time": "2023-04-07T13:18:09.944Z"
   },
   {
    "duration": 12861,
    "start_time": "2023-04-07T13:18:10.450Z"
   },
   {
    "duration": 70,
    "start_time": "2023-04-07T13:18:23.313Z"
   },
   {
    "duration": 10,
    "start_time": "2023-04-07T13:18:23.384Z"
   },
   {
    "duration": 22,
    "start_time": "2023-04-07T13:18:23.396Z"
   },
   {
    "duration": 12,
    "start_time": "2023-04-07T13:18:23.419Z"
   },
   {
    "duration": 8,
    "start_time": "2023-04-07T13:18:23.433Z"
   },
   {
    "duration": 11,
    "start_time": "2023-04-07T13:18:23.443Z"
   },
   {
    "duration": 71,
    "start_time": "2023-04-07T13:18:23.455Z"
   },
   {
    "duration": 9,
    "start_time": "2023-04-07T13:18:23.528Z"
   },
   {
    "duration": 21,
    "start_time": "2023-04-07T13:18:23.538Z"
   },
   {
    "duration": 6,
    "start_time": "2023-04-07T13:18:23.561Z"
   },
   {
    "duration": 7,
    "start_time": "2023-04-07T13:18:23.569Z"
   },
   {
    "duration": 70,
    "start_time": "2023-04-07T13:18:23.579Z"
   },
   {
    "duration": 9,
    "start_time": "2023-04-07T13:18:23.651Z"
   },
   {
    "duration": 11,
    "start_time": "2023-04-07T13:18:23.662Z"
   },
   {
    "duration": 7,
    "start_time": "2023-04-07T13:18:23.675Z"
   },
   {
    "duration": 7,
    "start_time": "2023-04-07T13:18:23.684Z"
   },
   {
    "duration": 80,
    "start_time": "2023-04-07T13:18:23.693Z"
   },
   {
    "duration": 10,
    "start_time": "2023-04-07T13:18:23.775Z"
   },
   {
    "duration": 10,
    "start_time": "2023-04-07T13:18:23.787Z"
   },
   {
    "duration": 19,
    "start_time": "2023-04-07T13:18:23.798Z"
   },
   {
    "duration": 24,
    "start_time": "2023-04-07T13:18:23.819Z"
   },
   {
    "duration": 82,
    "start_time": "2023-04-07T13:18:23.844Z"
   },
   {
    "duration": 10,
    "start_time": "2023-04-07T13:18:23.927Z"
   },
   {
    "duration": 9,
    "start_time": "2023-04-07T13:18:23.938Z"
   },
   {
    "duration": 28,
    "start_time": "2023-04-07T13:18:23.949Z"
   },
   {
    "duration": 23,
    "start_time": "2023-04-07T13:18:23.978Z"
   },
   {
    "duration": 68,
    "start_time": "2023-04-07T13:23:11.944Z"
   },
   {
    "duration": 104,
    "start_time": "2023-04-07T13:23:30.990Z"
   },
   {
    "duration": 72,
    "start_time": "2023-04-07T13:23:48.649Z"
   },
   {
    "duration": 74,
    "start_time": "2023-04-07T13:24:10.490Z"
   },
   {
    "duration": 72,
    "start_time": "2023-04-07T13:24:36.894Z"
   },
   {
    "duration": 531,
    "start_time": "2023-04-07T13:34:55.349Z"
   },
   {
    "duration": 24910,
    "start_time": "2023-04-07T13:34:55.882Z"
   },
   {
    "duration": 69,
    "start_time": "2023-04-07T13:35:20.794Z"
   },
   {
    "duration": 12,
    "start_time": "2023-04-07T13:35:20.864Z"
   },
   {
    "duration": 14,
    "start_time": "2023-04-07T13:35:20.878Z"
   },
   {
    "duration": 7,
    "start_time": "2023-04-07T13:35:20.893Z"
   },
   {
    "duration": 11,
    "start_time": "2023-04-07T13:35:20.901Z"
   },
   {
    "duration": 14,
    "start_time": "2023-04-07T13:35:20.914Z"
   },
   {
    "duration": 77,
    "start_time": "2023-04-07T13:35:20.930Z"
   },
   {
    "duration": 10,
    "start_time": "2023-04-07T13:35:21.008Z"
   },
   {
    "duration": 12,
    "start_time": "2023-04-07T13:35:21.020Z"
   },
   {
    "duration": 11,
    "start_time": "2023-04-07T13:35:21.033Z"
   },
   {
    "duration": 6,
    "start_time": "2023-04-07T13:35:21.046Z"
   },
   {
    "duration": 71,
    "start_time": "2023-04-07T13:35:21.055Z"
   },
   {
    "duration": 10,
    "start_time": "2023-04-07T13:35:21.128Z"
   },
   {
    "duration": 14,
    "start_time": "2023-04-07T13:35:21.140Z"
   },
   {
    "duration": 9,
    "start_time": "2023-04-07T13:35:21.156Z"
   },
   {
    "duration": 13,
    "start_time": "2023-04-07T13:35:21.166Z"
   },
   {
    "duration": 81,
    "start_time": "2023-04-07T13:35:21.180Z"
   },
   {
    "duration": 9,
    "start_time": "2023-04-07T13:35:21.263Z"
   },
   {
    "duration": 29,
    "start_time": "2023-04-07T13:35:21.273Z"
   },
   {
    "duration": 9,
    "start_time": "2023-04-07T13:35:21.304Z"
   },
   {
    "duration": 20,
    "start_time": "2023-04-07T13:35:21.316Z"
   },
   {
    "duration": 83,
    "start_time": "2023-04-07T13:35:21.337Z"
   },
   {
    "duration": 10,
    "start_time": "2023-04-07T13:35:21.422Z"
   },
   {
    "duration": 36,
    "start_time": "2023-04-07T13:35:21.433Z"
   },
   {
    "duration": 14,
    "start_time": "2023-04-07T13:35:21.470Z"
   },
   {
    "duration": 32,
    "start_time": "2023-04-07T13:35:21.485Z"
   },
   {
    "duration": 81,
    "start_time": "2023-04-07T13:35:21.519Z"
   },
   {
    "duration": 81,
    "start_time": "2023-04-07T13:35:21.601Z"
   },
   {
    "duration": 71,
    "start_time": "2023-04-07T13:35:21.684Z"
   },
   {
    "duration": 76,
    "start_time": "2023-04-07T13:35:21.757Z"
   },
   {
    "duration": 72,
    "start_time": "2023-04-07T13:35:21.834Z"
   },
   {
    "duration": 530,
    "start_time": "2023-04-07T13:35:58.309Z"
   },
   {
    "duration": 16446,
    "start_time": "2023-04-07T13:35:58.841Z"
   },
   {
    "duration": 70,
    "start_time": "2023-04-07T13:36:15.288Z"
   },
   {
    "duration": 12,
    "start_time": "2023-04-07T13:36:15.360Z"
   },
   {
    "duration": 18,
    "start_time": "2023-04-07T13:36:15.374Z"
   },
   {
    "duration": 7,
    "start_time": "2023-04-07T13:36:15.393Z"
   },
   {
    "duration": 12,
    "start_time": "2023-04-07T13:36:15.401Z"
   },
   {
    "duration": 22,
    "start_time": "2023-04-07T13:36:15.415Z"
   },
   {
    "duration": 72,
    "start_time": "2023-04-07T13:36:15.439Z"
   },
   {
    "duration": 10,
    "start_time": "2023-04-07T13:36:15.512Z"
   },
   {
    "duration": 7,
    "start_time": "2023-04-07T13:36:15.524Z"
   },
   {
    "duration": 14,
    "start_time": "2023-04-07T13:36:15.532Z"
   },
   {
    "duration": 12,
    "start_time": "2023-04-07T13:36:15.547Z"
   },
   {
    "duration": 80,
    "start_time": "2023-04-07T13:36:15.561Z"
   },
   {
    "duration": 9,
    "start_time": "2023-04-07T13:36:15.642Z"
   },
   {
    "duration": 9,
    "start_time": "2023-04-07T13:36:15.652Z"
   },
   {
    "duration": 19,
    "start_time": "2023-04-07T13:36:15.662Z"
   },
   {
    "duration": 8,
    "start_time": "2023-04-07T13:36:15.683Z"
   },
   {
    "duration": 85,
    "start_time": "2023-04-07T13:36:15.692Z"
   },
   {
    "duration": 10,
    "start_time": "2023-04-07T13:36:15.778Z"
   },
   {
    "duration": 10,
    "start_time": "2023-04-07T13:36:15.789Z"
   },
   {
    "duration": 12,
    "start_time": "2023-04-07T13:36:15.800Z"
   },
   {
    "duration": 13,
    "start_time": "2023-04-07T13:36:15.814Z"
   },
   {
    "duration": 81,
    "start_time": "2023-04-07T13:36:15.829Z"
   },
   {
    "duration": 11,
    "start_time": "2023-04-07T13:36:15.911Z"
   },
   {
    "duration": 39,
    "start_time": "2023-04-07T13:36:15.923Z"
   },
   {
    "duration": 9,
    "start_time": "2023-04-07T13:36:15.964Z"
   },
   {
    "duration": 7,
    "start_time": "2023-04-07T13:36:15.975Z"
   },
   {
    "duration": 66,
    "start_time": "2023-04-07T13:36:15.983Z"
   },
   {
    "duration": 80,
    "start_time": "2023-04-07T13:36:16.051Z"
   },
   {
    "duration": 72,
    "start_time": "2023-04-07T13:36:16.132Z"
   },
   {
    "duration": 74,
    "start_time": "2023-04-07T13:36:16.205Z"
   },
   {
    "duration": 71,
    "start_time": "2023-04-07T13:36:16.281Z"
   }
  ],
  "kernelspec": {
   "display_name": "Python 3 (ipykernel)",
   "language": "python",
   "name": "python3"
  },
  "language_info": {
   "codemirror_mode": {
    "name": "ipython",
    "version": 3
   },
   "file_extension": ".py",
   "mimetype": "text/x-python",
   "name": "python",
   "nbconvert_exporter": "python",
   "pygments_lexer": "ipython3",
   "version": "3.9.12"
  },
  "latex_envs": {
   "LaTeX_envs_menu_present": true,
   "autoclose": false,
   "autocomplete": true,
   "bibliofile": "biblio.bib",
   "cite_by": "apalike",
   "current_citInitial": 1,
   "eqLabelWithNumbers": true,
   "eqNumInitial": 1,
   "hotkeys": {
    "equation": "Ctrl-E",
    "itemize": "Ctrl-I"
   },
   "labels_anchors": false,
   "latex_user_defs": false,
   "report_style_numbering": false,
   "user_envs_cfg": false
  },
  "nbTranslate": {
   "displayLangs": [
    "*"
   ],
   "hotkey": "alt-t",
   "langInMainMenu": true,
   "sourceLang": "en",
   "targetLang": "fr",
   "useGoogleTranslate": true
  },
  "toc": {
   "base_numbering": 1,
   "nav_menu": {},
   "number_sections": true,
   "sideBar": true,
   "skip_h1_title": true,
   "title_cell": "Сервис для чтения книг",
   "title_sidebar": "Сервис для чтения книг",
   "toc_cell": true,
   "toc_position": {},
   "toc_section_display": true,
   "toc_window_display": true
  }
 },
 "nbformat": 4,
 "nbformat_minor": 2
}

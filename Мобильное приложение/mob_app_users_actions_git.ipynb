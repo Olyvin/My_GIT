{
 "cells": [
  {
   "cell_type": "markdown",
   "id": "38bb6c0d",
   "metadata": {
    "toc": true
   },
   "source": [
    "<h1>СБОРНЫЙ ПРОЕКТ - 2. Интернет-магазин продуктов питания.<span class=\"tocSkip\"></span></h1>\n",
    "<div class=\"toc\"><ul class=\"toc-item\"><li><span><a href=\"#Описание-проекта\" data-toc-modified-id=\"Описание-проекта-1\"><span class=\"toc-item-num\">1&nbsp;&nbsp;</span>Описание проекта</a></span></li><li><span><a href=\"#Описание-данных\" data-toc-modified-id=\"Описание-данных-2\"><span class=\"toc-item-num\">2&nbsp;&nbsp;</span>Описание данных</a></span></li><li><span><a href=\"#Ход-работы\" data-toc-modified-id=\"Ход-работы-3\"><span class=\"toc-item-num\">3&nbsp;&nbsp;</span>Ход работы</a></span><ul class=\"toc-item\"><li><span><a href=\"#Загрузка-данных-и-изучение-информации\" data-toc-modified-id=\"Загрузка-данных-и-изучение-информации-3.1\"><span class=\"toc-item-num\">3.1&nbsp;&nbsp;</span>Загрузка данных и изучение информации</a></span></li><li><span><a href=\"#Подготовка-данных\" data-toc-modified-id=\"Подготовка-данных-3.2\"><span class=\"toc-item-num\">3.2&nbsp;&nbsp;</span>Подготовка данных</a></span></li><li><span><a href=\"#Изучение-и-проверка-данных\" data-toc-modified-id=\"Изучение-и-проверка-данных-3.3\"><span class=\"toc-item-num\">3.3&nbsp;&nbsp;</span>Изучение и проверка данных</a></span></li><li><span><a href=\"#Изучение-воронки-событий\" data-toc-modified-id=\"Изучение-воронки-событий-3.4\"><span class=\"toc-item-num\">3.4&nbsp;&nbsp;</span>Изучение воронки событий</a></span></li><li><span><a href=\"#Изучение-результатов-эксперимента\" data-toc-modified-id=\"Изучение-результатов-эксперимента-3.5\"><span class=\"toc-item-num\">3.5&nbsp;&nbsp;</span>Изучение результатов эксперимента</a></span></li></ul></li><li><span><a href=\"#Выводы\" data-toc-modified-id=\"Выводы-4\"><span class=\"toc-item-num\">4&nbsp;&nbsp;</span>Выводы</a></span></li></ul></div>"
   ]
  },
  {
   "cell_type": "markdown",
   "id": "79c426f2",
   "metadata": {},
   "source": [
    "# Описание проекта"
   ]
  },
  {
   "cell_type": "markdown",
   "id": "d6965437",
   "metadata": {},
   "source": [
    "Интернет-магазин продуктов питания хочет разобраться как ведут себя пользователи мобильного приложения.\n",
    "\n",
    "Предлагается:\n",
    "\n",
    "- изучить воронку продаж\n",
    "\n",
    "- узнать как пользователи доходят до покупки\n",
    "\n",
    "- узнать сколько пользователей доходят до покупки\n",
    "\n",
    "- выяснить на каких этапах теряются пользователи\n",
    "\n",
    "- исследовать результаты А/А/В-эксперимента: дизайнеры предложили поменять шрифт\n",
    "\n",
    "- выяснить, какой шрифт лучше\n"
   ]
  },
  {
   "cell_type": "markdown",
   "id": "0939eb64",
   "metadata": {},
   "source": [
    "# Описание данных"
   ]
  },
  {
   "cell_type": "markdown",
   "id": "5e876576",
   "metadata": {},
   "source": [
    "Логи пользователей мобильного приложения в файле logs_exp.csv\n",
    "\n",
    "EventName — название события;\n",
    "\n",
    "DeviceIDHash — уникальный идентификатор пользователя;\n",
    "\n",
    "EventTimestamp — время события;\n",
    "\n",
    "ExpId — номер эксперимента: 246 и 247 — контрольные группы, а 248 — экспериментальная.\n",
    "\n"
   ]
  },
  {
   "cell_type": "markdown",
   "id": "34d929e1",
   "metadata": {},
   "source": [
    "# Ход работы"
   ]
  },
  {
   "cell_type": "markdown",
   "id": "49e07b63",
   "metadata": {},
   "source": [
    "## Загрузка данных и изучение информации"
   ]
  },
  {
   "cell_type": "code",
   "execution_count": 1,
   "id": "f080f16b",
   "metadata": {},
   "outputs": [],
   "source": [
    "import pandas as pd\n",
    "import matplotlib.pyplot as plt\n",
    "%matplotlib inline\n",
    "import seaborn as sns\n",
    "from plotly import graph_objects as go\n",
    "import plotly.express as px\n",
    "import datetime as dt\n",
    "import numpy as np\n",
    "from math import floor\n",
    "import math as mth\n",
    "from scipy import stats as st\n",
    "import warnings\n",
    "warnings.filterwarnings('ignore')\n",
    "pd.set_option('display.max_columns', None)\n",
    "pd.set_option('display.max_colwidth', -1)"
   ]
  },
  {
   "cell_type": "code",
   "execution_count": 2,
   "id": "8266bbcb",
   "metadata": {},
   "outputs": [
    {
     "ename": "FileNotFoundError",
     "evalue": "[Errno 2] No such file or directory: '/datasets/logs_exp.csv'",
     "output_type": "error",
     "traceback": [
      "\u001b[0;31m---------------------------------------------------------------------------\u001b[0m",
      "\u001b[0;31mFileNotFoundError\u001b[0m                         Traceback (most recent call last)",
      "Input \u001b[0;32mIn [2]\u001b[0m, in \u001b[0;36m<cell line: 1>\u001b[0;34m()\u001b[0m\n\u001b[1;32m      1\u001b[0m \u001b[38;5;28;01mtry\u001b[39;00m:\n\u001b[0;32m----> 3\u001b[0m     df \u001b[38;5;241m=\u001b[39m \u001b[43mpd\u001b[49m\u001b[38;5;241;43m.\u001b[39;49m\u001b[43mread_csv\u001b[49m\u001b[43m(\u001b[49m\u001b[38;5;124;43m'\u001b[39;49m\u001b[38;5;124;43mlogs_exp.csv\u001b[39;49m\u001b[38;5;124;43m'\u001b[39;49m\u001b[43m,\u001b[49m\u001b[43m \u001b[49m\u001b[43mdelimiter\u001b[49m\u001b[43m \u001b[49m\u001b[38;5;241;43m=\u001b[39;49m\u001b[43m \u001b[49m\u001b[38;5;124;43m\"\u001b[39;49m\u001b[38;5;130;43;01m\\t\u001b[39;49;00m\u001b[38;5;124;43m\"\u001b[39;49m\u001b[43m)\u001b[49m \n\u001b[1;32m      4\u001b[0m \u001b[38;5;28;01mexcept\u001b[39;00m:\n",
      "File \u001b[0;32m~/opt/anaconda3/lib/python3.9/site-packages/pandas/util/_decorators.py:311\u001b[0m, in \u001b[0;36mdeprecate_nonkeyword_arguments.<locals>.decorate.<locals>.wrapper\u001b[0;34m(*args, **kwargs)\u001b[0m\n\u001b[1;32m    306\u001b[0m     warnings\u001b[38;5;241m.\u001b[39mwarn(\n\u001b[1;32m    307\u001b[0m         msg\u001b[38;5;241m.\u001b[39mformat(arguments\u001b[38;5;241m=\u001b[39marguments),\n\u001b[1;32m    308\u001b[0m         \u001b[38;5;167;01mFutureWarning\u001b[39;00m,\n\u001b[1;32m    309\u001b[0m         stacklevel\u001b[38;5;241m=\u001b[39mstacklevel,\n\u001b[1;32m    310\u001b[0m     )\n\u001b[0;32m--> 311\u001b[0m \u001b[38;5;28;01mreturn\u001b[39;00m \u001b[43mfunc\u001b[49m\u001b[43m(\u001b[49m\u001b[38;5;241;43m*\u001b[39;49m\u001b[43margs\u001b[49m\u001b[43m,\u001b[49m\u001b[43m \u001b[49m\u001b[38;5;241;43m*\u001b[39;49m\u001b[38;5;241;43m*\u001b[39;49m\u001b[43mkwargs\u001b[49m\u001b[43m)\u001b[49m\n",
      "File \u001b[0;32m~/opt/anaconda3/lib/python3.9/site-packages/pandas/io/parsers/readers.py:680\u001b[0m, in \u001b[0;36mread_csv\u001b[0;34m(filepath_or_buffer, sep, delimiter, header, names, index_col, usecols, squeeze, prefix, mangle_dupe_cols, dtype, engine, converters, true_values, false_values, skipinitialspace, skiprows, skipfooter, nrows, na_values, keep_default_na, na_filter, verbose, skip_blank_lines, parse_dates, infer_datetime_format, keep_date_col, date_parser, dayfirst, cache_dates, iterator, chunksize, compression, thousands, decimal, lineterminator, quotechar, quoting, doublequote, escapechar, comment, encoding, encoding_errors, dialect, error_bad_lines, warn_bad_lines, on_bad_lines, delim_whitespace, low_memory, memory_map, float_precision, storage_options)\u001b[0m\n\u001b[1;32m    678\u001b[0m kwds\u001b[38;5;241m.\u001b[39mupdate(kwds_defaults)\n\u001b[0;32m--> 680\u001b[0m \u001b[38;5;28;01mreturn\u001b[39;00m \u001b[43m_read\u001b[49m\u001b[43m(\u001b[49m\u001b[43mfilepath_or_buffer\u001b[49m\u001b[43m,\u001b[49m\u001b[43m \u001b[49m\u001b[43mkwds\u001b[49m\u001b[43m)\u001b[49m\n",
      "File \u001b[0;32m~/opt/anaconda3/lib/python3.9/site-packages/pandas/io/parsers/readers.py:575\u001b[0m, in \u001b[0;36m_read\u001b[0;34m(filepath_or_buffer, kwds)\u001b[0m\n\u001b[1;32m    574\u001b[0m \u001b[38;5;66;03m# Create the parser.\u001b[39;00m\n\u001b[0;32m--> 575\u001b[0m parser \u001b[38;5;241m=\u001b[39m \u001b[43mTextFileReader\u001b[49m\u001b[43m(\u001b[49m\u001b[43mfilepath_or_buffer\u001b[49m\u001b[43m,\u001b[49m\u001b[43m \u001b[49m\u001b[38;5;241;43m*\u001b[39;49m\u001b[38;5;241;43m*\u001b[39;49m\u001b[43mkwds\u001b[49m\u001b[43m)\u001b[49m\n\u001b[1;32m    577\u001b[0m \u001b[38;5;28;01mif\u001b[39;00m chunksize \u001b[38;5;129;01mor\u001b[39;00m iterator:\n",
      "File \u001b[0;32m~/opt/anaconda3/lib/python3.9/site-packages/pandas/io/parsers/readers.py:933\u001b[0m, in \u001b[0;36mTextFileReader.__init__\u001b[0;34m(self, f, engine, **kwds)\u001b[0m\n\u001b[1;32m    932\u001b[0m \u001b[38;5;28mself\u001b[39m\u001b[38;5;241m.\u001b[39mhandles: IOHandles \u001b[38;5;241m|\u001b[39m \u001b[38;5;28;01mNone\u001b[39;00m \u001b[38;5;241m=\u001b[39m \u001b[38;5;28;01mNone\u001b[39;00m\n\u001b[0;32m--> 933\u001b[0m \u001b[38;5;28mself\u001b[39m\u001b[38;5;241m.\u001b[39m_engine \u001b[38;5;241m=\u001b[39m \u001b[38;5;28;43mself\u001b[39;49m\u001b[38;5;241;43m.\u001b[39;49m\u001b[43m_make_engine\u001b[49m\u001b[43m(\u001b[49m\u001b[43mf\u001b[49m\u001b[43m,\u001b[49m\u001b[43m \u001b[49m\u001b[38;5;28;43mself\u001b[39;49m\u001b[38;5;241;43m.\u001b[39;49m\u001b[43mengine\u001b[49m\u001b[43m)\u001b[49m\n",
      "File \u001b[0;32m~/opt/anaconda3/lib/python3.9/site-packages/pandas/io/parsers/readers.py:1217\u001b[0m, in \u001b[0;36mTextFileReader._make_engine\u001b[0;34m(self, f, engine)\u001b[0m\n\u001b[1;32m   1214\u001b[0m \u001b[38;5;66;03m# error: No overload variant of \"get_handle\" matches argument types\u001b[39;00m\n\u001b[1;32m   1215\u001b[0m \u001b[38;5;66;03m# \"Union[str, PathLike[str], ReadCsvBuffer[bytes], ReadCsvBuffer[str]]\"\u001b[39;00m\n\u001b[1;32m   1216\u001b[0m \u001b[38;5;66;03m# , \"str\", \"bool\", \"Any\", \"Any\", \"Any\", \"Any\", \"Any\"\u001b[39;00m\n\u001b[0;32m-> 1217\u001b[0m \u001b[38;5;28mself\u001b[39m\u001b[38;5;241m.\u001b[39mhandles \u001b[38;5;241m=\u001b[39m \u001b[43mget_handle\u001b[49m\u001b[43m(\u001b[49m\u001b[43m  \u001b[49m\u001b[38;5;66;43;03m# type: ignore[call-overload]\u001b[39;49;00m\n\u001b[1;32m   1218\u001b[0m \u001b[43m    \u001b[49m\u001b[43mf\u001b[49m\u001b[43m,\u001b[49m\n\u001b[1;32m   1219\u001b[0m \u001b[43m    \u001b[49m\u001b[43mmode\u001b[49m\u001b[43m,\u001b[49m\n\u001b[1;32m   1220\u001b[0m \u001b[43m    \u001b[49m\u001b[43mencoding\u001b[49m\u001b[38;5;241;43m=\u001b[39;49m\u001b[38;5;28;43mself\u001b[39;49m\u001b[38;5;241;43m.\u001b[39;49m\u001b[43moptions\u001b[49m\u001b[38;5;241;43m.\u001b[39;49m\u001b[43mget\u001b[49m\u001b[43m(\u001b[49m\u001b[38;5;124;43m\"\u001b[39;49m\u001b[38;5;124;43mencoding\u001b[39;49m\u001b[38;5;124;43m\"\u001b[39;49m\u001b[43m,\u001b[49m\u001b[43m \u001b[49m\u001b[38;5;28;43;01mNone\u001b[39;49;00m\u001b[43m)\u001b[49m\u001b[43m,\u001b[49m\n\u001b[1;32m   1221\u001b[0m \u001b[43m    \u001b[49m\u001b[43mcompression\u001b[49m\u001b[38;5;241;43m=\u001b[39;49m\u001b[38;5;28;43mself\u001b[39;49m\u001b[38;5;241;43m.\u001b[39;49m\u001b[43moptions\u001b[49m\u001b[38;5;241;43m.\u001b[39;49m\u001b[43mget\u001b[49m\u001b[43m(\u001b[49m\u001b[38;5;124;43m\"\u001b[39;49m\u001b[38;5;124;43mcompression\u001b[39;49m\u001b[38;5;124;43m\"\u001b[39;49m\u001b[43m,\u001b[49m\u001b[43m \u001b[49m\u001b[38;5;28;43;01mNone\u001b[39;49;00m\u001b[43m)\u001b[49m\u001b[43m,\u001b[49m\n\u001b[1;32m   1222\u001b[0m \u001b[43m    \u001b[49m\u001b[43mmemory_map\u001b[49m\u001b[38;5;241;43m=\u001b[39;49m\u001b[38;5;28;43mself\u001b[39;49m\u001b[38;5;241;43m.\u001b[39;49m\u001b[43moptions\u001b[49m\u001b[38;5;241;43m.\u001b[39;49m\u001b[43mget\u001b[49m\u001b[43m(\u001b[49m\u001b[38;5;124;43m\"\u001b[39;49m\u001b[38;5;124;43mmemory_map\u001b[39;49m\u001b[38;5;124;43m\"\u001b[39;49m\u001b[43m,\u001b[49m\u001b[43m \u001b[49m\u001b[38;5;28;43;01mFalse\u001b[39;49;00m\u001b[43m)\u001b[49m\u001b[43m,\u001b[49m\n\u001b[1;32m   1223\u001b[0m \u001b[43m    \u001b[49m\u001b[43mis_text\u001b[49m\u001b[38;5;241;43m=\u001b[39;49m\u001b[43mis_text\u001b[49m\u001b[43m,\u001b[49m\n\u001b[1;32m   1224\u001b[0m \u001b[43m    \u001b[49m\u001b[43merrors\u001b[49m\u001b[38;5;241;43m=\u001b[39;49m\u001b[38;5;28;43mself\u001b[39;49m\u001b[38;5;241;43m.\u001b[39;49m\u001b[43moptions\u001b[49m\u001b[38;5;241;43m.\u001b[39;49m\u001b[43mget\u001b[49m\u001b[43m(\u001b[49m\u001b[38;5;124;43m\"\u001b[39;49m\u001b[38;5;124;43mencoding_errors\u001b[39;49m\u001b[38;5;124;43m\"\u001b[39;49m\u001b[43m,\u001b[49m\u001b[43m \u001b[49m\u001b[38;5;124;43m\"\u001b[39;49m\u001b[38;5;124;43mstrict\u001b[39;49m\u001b[38;5;124;43m\"\u001b[39;49m\u001b[43m)\u001b[49m\u001b[43m,\u001b[49m\n\u001b[1;32m   1225\u001b[0m \u001b[43m    \u001b[49m\u001b[43mstorage_options\u001b[49m\u001b[38;5;241;43m=\u001b[39;49m\u001b[38;5;28;43mself\u001b[39;49m\u001b[38;5;241;43m.\u001b[39;49m\u001b[43moptions\u001b[49m\u001b[38;5;241;43m.\u001b[39;49m\u001b[43mget\u001b[49m\u001b[43m(\u001b[49m\u001b[38;5;124;43m\"\u001b[39;49m\u001b[38;5;124;43mstorage_options\u001b[39;49m\u001b[38;5;124;43m\"\u001b[39;49m\u001b[43m,\u001b[49m\u001b[43m \u001b[49m\u001b[38;5;28;43;01mNone\u001b[39;49;00m\u001b[43m)\u001b[49m\u001b[43m,\u001b[49m\n\u001b[1;32m   1226\u001b[0m \u001b[43m\u001b[49m\u001b[43m)\u001b[49m\n\u001b[1;32m   1227\u001b[0m \u001b[38;5;28;01massert\u001b[39;00m \u001b[38;5;28mself\u001b[39m\u001b[38;5;241m.\u001b[39mhandles \u001b[38;5;129;01mis\u001b[39;00m \u001b[38;5;129;01mnot\u001b[39;00m \u001b[38;5;28;01mNone\u001b[39;00m\n",
      "File \u001b[0;32m~/opt/anaconda3/lib/python3.9/site-packages/pandas/io/common.py:789\u001b[0m, in \u001b[0;36mget_handle\u001b[0;34m(path_or_buf, mode, encoding, compression, memory_map, is_text, errors, storage_options)\u001b[0m\n\u001b[1;32m    787\u001b[0m \u001b[38;5;28;01mif\u001b[39;00m ioargs\u001b[38;5;241m.\u001b[39mencoding \u001b[38;5;129;01mand\u001b[39;00m \u001b[38;5;124m\"\u001b[39m\u001b[38;5;124mb\u001b[39m\u001b[38;5;124m\"\u001b[39m \u001b[38;5;129;01mnot\u001b[39;00m \u001b[38;5;129;01min\u001b[39;00m ioargs\u001b[38;5;241m.\u001b[39mmode:\n\u001b[1;32m    788\u001b[0m     \u001b[38;5;66;03m# Encoding\u001b[39;00m\n\u001b[0;32m--> 789\u001b[0m     handle \u001b[38;5;241m=\u001b[39m \u001b[38;5;28;43mopen\u001b[39;49m\u001b[43m(\u001b[49m\n\u001b[1;32m    790\u001b[0m \u001b[43m        \u001b[49m\u001b[43mhandle\u001b[49m\u001b[43m,\u001b[49m\n\u001b[1;32m    791\u001b[0m \u001b[43m        \u001b[49m\u001b[43mioargs\u001b[49m\u001b[38;5;241;43m.\u001b[39;49m\u001b[43mmode\u001b[49m\u001b[43m,\u001b[49m\n\u001b[1;32m    792\u001b[0m \u001b[43m        \u001b[49m\u001b[43mencoding\u001b[49m\u001b[38;5;241;43m=\u001b[39;49m\u001b[43mioargs\u001b[49m\u001b[38;5;241;43m.\u001b[39;49m\u001b[43mencoding\u001b[49m\u001b[43m,\u001b[49m\n\u001b[1;32m    793\u001b[0m \u001b[43m        \u001b[49m\u001b[43merrors\u001b[49m\u001b[38;5;241;43m=\u001b[39;49m\u001b[43merrors\u001b[49m\u001b[43m,\u001b[49m\n\u001b[1;32m    794\u001b[0m \u001b[43m        \u001b[49m\u001b[43mnewline\u001b[49m\u001b[38;5;241;43m=\u001b[39;49m\u001b[38;5;124;43m\"\u001b[39;49m\u001b[38;5;124;43m\"\u001b[39;49m\u001b[43m,\u001b[49m\n\u001b[1;32m    795\u001b[0m \u001b[43m    \u001b[49m\u001b[43m)\u001b[49m\n\u001b[1;32m    796\u001b[0m \u001b[38;5;28;01melse\u001b[39;00m:\n\u001b[1;32m    797\u001b[0m     \u001b[38;5;66;03m# Binary mode\u001b[39;00m\n",
      "\u001b[0;31mFileNotFoundError\u001b[0m: [Errno 2] No such file or directory: 'logs_exp.csv'",
      "\nDuring handling of the above exception, another exception occurred:\n",
      "\u001b[0;31mFileNotFoundError\u001b[0m                         Traceback (most recent call last)",
      "Input \u001b[0;32mIn [2]\u001b[0m, in \u001b[0;36m<cell line: 1>\u001b[0;34m()\u001b[0m\n\u001b[1;32m      3\u001b[0m     df \u001b[38;5;241m=\u001b[39m pd\u001b[38;5;241m.\u001b[39mread_csv(\u001b[38;5;124m'\u001b[39m\u001b[38;5;124mlogs_exp.csv\u001b[39m\u001b[38;5;124m'\u001b[39m, delimiter \u001b[38;5;241m=\u001b[39m \u001b[38;5;124m\"\u001b[39m\u001b[38;5;130;01m\\t\u001b[39;00m\u001b[38;5;124m\"\u001b[39m) \n\u001b[1;32m      4\u001b[0m \u001b[38;5;28;01mexcept\u001b[39;00m:\n\u001b[0;32m----> 6\u001b[0m     df \u001b[38;5;241m=\u001b[39m \u001b[43mpd\u001b[49m\u001b[38;5;241;43m.\u001b[39;49m\u001b[43mread_csv\u001b[49m\u001b[43m(\u001b[49m\u001b[38;5;124;43m'\u001b[39;49m\u001b[38;5;124;43m/datasets/logs_exp.csv\u001b[39;49m\u001b[38;5;124;43m'\u001b[39;49m\u001b[43m,\u001b[49m\u001b[43m \u001b[49m\u001b[43mdelimiter\u001b[49m\u001b[43m \u001b[49m\u001b[38;5;241;43m=\u001b[39;49m\u001b[43m \u001b[49m\u001b[38;5;124;43m\"\u001b[39;49m\u001b[38;5;130;43;01m\\t\u001b[39;49;00m\u001b[38;5;124;43m\"\u001b[39;49m\u001b[43m)\u001b[49m\n",
      "File \u001b[0;32m~/opt/anaconda3/lib/python3.9/site-packages/pandas/util/_decorators.py:311\u001b[0m, in \u001b[0;36mdeprecate_nonkeyword_arguments.<locals>.decorate.<locals>.wrapper\u001b[0;34m(*args, **kwargs)\u001b[0m\n\u001b[1;32m    305\u001b[0m \u001b[38;5;28;01mif\u001b[39;00m \u001b[38;5;28mlen\u001b[39m(args) \u001b[38;5;241m>\u001b[39m num_allow_args:\n\u001b[1;32m    306\u001b[0m     warnings\u001b[38;5;241m.\u001b[39mwarn(\n\u001b[1;32m    307\u001b[0m         msg\u001b[38;5;241m.\u001b[39mformat(arguments\u001b[38;5;241m=\u001b[39marguments),\n\u001b[1;32m    308\u001b[0m         \u001b[38;5;167;01mFutureWarning\u001b[39;00m,\n\u001b[1;32m    309\u001b[0m         stacklevel\u001b[38;5;241m=\u001b[39mstacklevel,\n\u001b[1;32m    310\u001b[0m     )\n\u001b[0;32m--> 311\u001b[0m \u001b[38;5;28;01mreturn\u001b[39;00m \u001b[43mfunc\u001b[49m\u001b[43m(\u001b[49m\u001b[38;5;241;43m*\u001b[39;49m\u001b[43margs\u001b[49m\u001b[43m,\u001b[49m\u001b[43m \u001b[49m\u001b[38;5;241;43m*\u001b[39;49m\u001b[38;5;241;43m*\u001b[39;49m\u001b[43mkwargs\u001b[49m\u001b[43m)\u001b[49m\n",
      "File \u001b[0;32m~/opt/anaconda3/lib/python3.9/site-packages/pandas/io/parsers/readers.py:680\u001b[0m, in \u001b[0;36mread_csv\u001b[0;34m(filepath_or_buffer, sep, delimiter, header, names, index_col, usecols, squeeze, prefix, mangle_dupe_cols, dtype, engine, converters, true_values, false_values, skipinitialspace, skiprows, skipfooter, nrows, na_values, keep_default_na, na_filter, verbose, skip_blank_lines, parse_dates, infer_datetime_format, keep_date_col, date_parser, dayfirst, cache_dates, iterator, chunksize, compression, thousands, decimal, lineterminator, quotechar, quoting, doublequote, escapechar, comment, encoding, encoding_errors, dialect, error_bad_lines, warn_bad_lines, on_bad_lines, delim_whitespace, low_memory, memory_map, float_precision, storage_options)\u001b[0m\n\u001b[1;32m    665\u001b[0m kwds_defaults \u001b[38;5;241m=\u001b[39m _refine_defaults_read(\n\u001b[1;32m    666\u001b[0m     dialect,\n\u001b[1;32m    667\u001b[0m     delimiter,\n\u001b[0;32m   (...)\u001b[0m\n\u001b[1;32m    676\u001b[0m     defaults\u001b[38;5;241m=\u001b[39m{\u001b[38;5;124m\"\u001b[39m\u001b[38;5;124mdelimiter\u001b[39m\u001b[38;5;124m\"\u001b[39m: \u001b[38;5;124m\"\u001b[39m\u001b[38;5;124m,\u001b[39m\u001b[38;5;124m\"\u001b[39m},\n\u001b[1;32m    677\u001b[0m )\n\u001b[1;32m    678\u001b[0m kwds\u001b[38;5;241m.\u001b[39mupdate(kwds_defaults)\n\u001b[0;32m--> 680\u001b[0m \u001b[38;5;28;01mreturn\u001b[39;00m \u001b[43m_read\u001b[49m\u001b[43m(\u001b[49m\u001b[43mfilepath_or_buffer\u001b[49m\u001b[43m,\u001b[49m\u001b[43m \u001b[49m\u001b[43mkwds\u001b[49m\u001b[43m)\u001b[49m\n",
      "File \u001b[0;32m~/opt/anaconda3/lib/python3.9/site-packages/pandas/io/parsers/readers.py:575\u001b[0m, in \u001b[0;36m_read\u001b[0;34m(filepath_or_buffer, kwds)\u001b[0m\n\u001b[1;32m    572\u001b[0m _validate_names(kwds\u001b[38;5;241m.\u001b[39mget(\u001b[38;5;124m\"\u001b[39m\u001b[38;5;124mnames\u001b[39m\u001b[38;5;124m\"\u001b[39m, \u001b[38;5;28;01mNone\u001b[39;00m))\n\u001b[1;32m    574\u001b[0m \u001b[38;5;66;03m# Create the parser.\u001b[39;00m\n\u001b[0;32m--> 575\u001b[0m parser \u001b[38;5;241m=\u001b[39m \u001b[43mTextFileReader\u001b[49m\u001b[43m(\u001b[49m\u001b[43mfilepath_or_buffer\u001b[49m\u001b[43m,\u001b[49m\u001b[43m \u001b[49m\u001b[38;5;241;43m*\u001b[39;49m\u001b[38;5;241;43m*\u001b[39;49m\u001b[43mkwds\u001b[49m\u001b[43m)\u001b[49m\n\u001b[1;32m    577\u001b[0m \u001b[38;5;28;01mif\u001b[39;00m chunksize \u001b[38;5;129;01mor\u001b[39;00m iterator:\n\u001b[1;32m    578\u001b[0m     \u001b[38;5;28;01mreturn\u001b[39;00m parser\n",
      "File \u001b[0;32m~/opt/anaconda3/lib/python3.9/site-packages/pandas/io/parsers/readers.py:933\u001b[0m, in \u001b[0;36mTextFileReader.__init__\u001b[0;34m(self, f, engine, **kwds)\u001b[0m\n\u001b[1;32m    930\u001b[0m     \u001b[38;5;28mself\u001b[39m\u001b[38;5;241m.\u001b[39moptions[\u001b[38;5;124m\"\u001b[39m\u001b[38;5;124mhas_index_names\u001b[39m\u001b[38;5;124m\"\u001b[39m] \u001b[38;5;241m=\u001b[39m kwds[\u001b[38;5;124m\"\u001b[39m\u001b[38;5;124mhas_index_names\u001b[39m\u001b[38;5;124m\"\u001b[39m]\n\u001b[1;32m    932\u001b[0m \u001b[38;5;28mself\u001b[39m\u001b[38;5;241m.\u001b[39mhandles: IOHandles \u001b[38;5;241m|\u001b[39m \u001b[38;5;28;01mNone\u001b[39;00m \u001b[38;5;241m=\u001b[39m \u001b[38;5;28;01mNone\u001b[39;00m\n\u001b[0;32m--> 933\u001b[0m \u001b[38;5;28mself\u001b[39m\u001b[38;5;241m.\u001b[39m_engine \u001b[38;5;241m=\u001b[39m \u001b[38;5;28;43mself\u001b[39;49m\u001b[38;5;241;43m.\u001b[39;49m\u001b[43m_make_engine\u001b[49m\u001b[43m(\u001b[49m\u001b[43mf\u001b[49m\u001b[43m,\u001b[49m\u001b[43m \u001b[49m\u001b[38;5;28;43mself\u001b[39;49m\u001b[38;5;241;43m.\u001b[39;49m\u001b[43mengine\u001b[49m\u001b[43m)\u001b[49m\n",
      "File \u001b[0;32m~/opt/anaconda3/lib/python3.9/site-packages/pandas/io/parsers/readers.py:1217\u001b[0m, in \u001b[0;36mTextFileReader._make_engine\u001b[0;34m(self, f, engine)\u001b[0m\n\u001b[1;32m   1213\u001b[0m     mode \u001b[38;5;241m=\u001b[39m \u001b[38;5;124m\"\u001b[39m\u001b[38;5;124mrb\u001b[39m\u001b[38;5;124m\"\u001b[39m\n\u001b[1;32m   1214\u001b[0m \u001b[38;5;66;03m# error: No overload variant of \"get_handle\" matches argument types\u001b[39;00m\n\u001b[1;32m   1215\u001b[0m \u001b[38;5;66;03m# \"Union[str, PathLike[str], ReadCsvBuffer[bytes], ReadCsvBuffer[str]]\"\u001b[39;00m\n\u001b[1;32m   1216\u001b[0m \u001b[38;5;66;03m# , \"str\", \"bool\", \"Any\", \"Any\", \"Any\", \"Any\", \"Any\"\u001b[39;00m\n\u001b[0;32m-> 1217\u001b[0m \u001b[38;5;28mself\u001b[39m\u001b[38;5;241m.\u001b[39mhandles \u001b[38;5;241m=\u001b[39m \u001b[43mget_handle\u001b[49m\u001b[43m(\u001b[49m\u001b[43m  \u001b[49m\u001b[38;5;66;43;03m# type: ignore[call-overload]\u001b[39;49;00m\n\u001b[1;32m   1218\u001b[0m \u001b[43m    \u001b[49m\u001b[43mf\u001b[49m\u001b[43m,\u001b[49m\n\u001b[1;32m   1219\u001b[0m \u001b[43m    \u001b[49m\u001b[43mmode\u001b[49m\u001b[43m,\u001b[49m\n\u001b[1;32m   1220\u001b[0m \u001b[43m    \u001b[49m\u001b[43mencoding\u001b[49m\u001b[38;5;241;43m=\u001b[39;49m\u001b[38;5;28;43mself\u001b[39;49m\u001b[38;5;241;43m.\u001b[39;49m\u001b[43moptions\u001b[49m\u001b[38;5;241;43m.\u001b[39;49m\u001b[43mget\u001b[49m\u001b[43m(\u001b[49m\u001b[38;5;124;43m\"\u001b[39;49m\u001b[38;5;124;43mencoding\u001b[39;49m\u001b[38;5;124;43m\"\u001b[39;49m\u001b[43m,\u001b[49m\u001b[43m \u001b[49m\u001b[38;5;28;43;01mNone\u001b[39;49;00m\u001b[43m)\u001b[49m\u001b[43m,\u001b[49m\n\u001b[1;32m   1221\u001b[0m \u001b[43m    \u001b[49m\u001b[43mcompression\u001b[49m\u001b[38;5;241;43m=\u001b[39;49m\u001b[38;5;28;43mself\u001b[39;49m\u001b[38;5;241;43m.\u001b[39;49m\u001b[43moptions\u001b[49m\u001b[38;5;241;43m.\u001b[39;49m\u001b[43mget\u001b[49m\u001b[43m(\u001b[49m\u001b[38;5;124;43m\"\u001b[39;49m\u001b[38;5;124;43mcompression\u001b[39;49m\u001b[38;5;124;43m\"\u001b[39;49m\u001b[43m,\u001b[49m\u001b[43m \u001b[49m\u001b[38;5;28;43;01mNone\u001b[39;49;00m\u001b[43m)\u001b[49m\u001b[43m,\u001b[49m\n\u001b[1;32m   1222\u001b[0m \u001b[43m    \u001b[49m\u001b[43mmemory_map\u001b[49m\u001b[38;5;241;43m=\u001b[39;49m\u001b[38;5;28;43mself\u001b[39;49m\u001b[38;5;241;43m.\u001b[39;49m\u001b[43moptions\u001b[49m\u001b[38;5;241;43m.\u001b[39;49m\u001b[43mget\u001b[49m\u001b[43m(\u001b[49m\u001b[38;5;124;43m\"\u001b[39;49m\u001b[38;5;124;43mmemory_map\u001b[39;49m\u001b[38;5;124;43m\"\u001b[39;49m\u001b[43m,\u001b[49m\u001b[43m \u001b[49m\u001b[38;5;28;43;01mFalse\u001b[39;49;00m\u001b[43m)\u001b[49m\u001b[43m,\u001b[49m\n\u001b[1;32m   1223\u001b[0m \u001b[43m    \u001b[49m\u001b[43mis_text\u001b[49m\u001b[38;5;241;43m=\u001b[39;49m\u001b[43mis_text\u001b[49m\u001b[43m,\u001b[49m\n\u001b[1;32m   1224\u001b[0m \u001b[43m    \u001b[49m\u001b[43merrors\u001b[49m\u001b[38;5;241;43m=\u001b[39;49m\u001b[38;5;28;43mself\u001b[39;49m\u001b[38;5;241;43m.\u001b[39;49m\u001b[43moptions\u001b[49m\u001b[38;5;241;43m.\u001b[39;49m\u001b[43mget\u001b[49m\u001b[43m(\u001b[49m\u001b[38;5;124;43m\"\u001b[39;49m\u001b[38;5;124;43mencoding_errors\u001b[39;49m\u001b[38;5;124;43m\"\u001b[39;49m\u001b[43m,\u001b[49m\u001b[43m \u001b[49m\u001b[38;5;124;43m\"\u001b[39;49m\u001b[38;5;124;43mstrict\u001b[39;49m\u001b[38;5;124;43m\"\u001b[39;49m\u001b[43m)\u001b[49m\u001b[43m,\u001b[49m\n\u001b[1;32m   1225\u001b[0m \u001b[43m    \u001b[49m\u001b[43mstorage_options\u001b[49m\u001b[38;5;241;43m=\u001b[39;49m\u001b[38;5;28;43mself\u001b[39;49m\u001b[38;5;241;43m.\u001b[39;49m\u001b[43moptions\u001b[49m\u001b[38;5;241;43m.\u001b[39;49m\u001b[43mget\u001b[49m\u001b[43m(\u001b[49m\u001b[38;5;124;43m\"\u001b[39;49m\u001b[38;5;124;43mstorage_options\u001b[39;49m\u001b[38;5;124;43m\"\u001b[39;49m\u001b[43m,\u001b[49m\u001b[43m \u001b[49m\u001b[38;5;28;43;01mNone\u001b[39;49;00m\u001b[43m)\u001b[49m\u001b[43m,\u001b[49m\n\u001b[1;32m   1226\u001b[0m \u001b[43m\u001b[49m\u001b[43m)\u001b[49m\n\u001b[1;32m   1227\u001b[0m \u001b[38;5;28;01massert\u001b[39;00m \u001b[38;5;28mself\u001b[39m\u001b[38;5;241m.\u001b[39mhandles \u001b[38;5;129;01mis\u001b[39;00m \u001b[38;5;129;01mnot\u001b[39;00m \u001b[38;5;28;01mNone\u001b[39;00m\n\u001b[1;32m   1228\u001b[0m f \u001b[38;5;241m=\u001b[39m \u001b[38;5;28mself\u001b[39m\u001b[38;5;241m.\u001b[39mhandles\u001b[38;5;241m.\u001b[39mhandle\n",
      "File \u001b[0;32m~/opt/anaconda3/lib/python3.9/site-packages/pandas/io/common.py:789\u001b[0m, in \u001b[0;36mget_handle\u001b[0;34m(path_or_buf, mode, encoding, compression, memory_map, is_text, errors, storage_options)\u001b[0m\n\u001b[1;32m    784\u001b[0m \u001b[38;5;28;01melif\u001b[39;00m \u001b[38;5;28misinstance\u001b[39m(handle, \u001b[38;5;28mstr\u001b[39m):\n\u001b[1;32m    785\u001b[0m     \u001b[38;5;66;03m# Check whether the filename is to be opened in binary mode.\u001b[39;00m\n\u001b[1;32m    786\u001b[0m     \u001b[38;5;66;03m# Binary mode does not support 'encoding' and 'newline'.\u001b[39;00m\n\u001b[1;32m    787\u001b[0m     \u001b[38;5;28;01mif\u001b[39;00m ioargs\u001b[38;5;241m.\u001b[39mencoding \u001b[38;5;129;01mand\u001b[39;00m \u001b[38;5;124m\"\u001b[39m\u001b[38;5;124mb\u001b[39m\u001b[38;5;124m\"\u001b[39m \u001b[38;5;129;01mnot\u001b[39;00m \u001b[38;5;129;01min\u001b[39;00m ioargs\u001b[38;5;241m.\u001b[39mmode:\n\u001b[1;32m    788\u001b[0m         \u001b[38;5;66;03m# Encoding\u001b[39;00m\n\u001b[0;32m--> 789\u001b[0m         handle \u001b[38;5;241m=\u001b[39m \u001b[38;5;28;43mopen\u001b[39;49m\u001b[43m(\u001b[49m\n\u001b[1;32m    790\u001b[0m \u001b[43m            \u001b[49m\u001b[43mhandle\u001b[49m\u001b[43m,\u001b[49m\n\u001b[1;32m    791\u001b[0m \u001b[43m            \u001b[49m\u001b[43mioargs\u001b[49m\u001b[38;5;241;43m.\u001b[39;49m\u001b[43mmode\u001b[49m\u001b[43m,\u001b[49m\n\u001b[1;32m    792\u001b[0m \u001b[43m            \u001b[49m\u001b[43mencoding\u001b[49m\u001b[38;5;241;43m=\u001b[39;49m\u001b[43mioargs\u001b[49m\u001b[38;5;241;43m.\u001b[39;49m\u001b[43mencoding\u001b[49m\u001b[43m,\u001b[49m\n\u001b[1;32m    793\u001b[0m \u001b[43m            \u001b[49m\u001b[43merrors\u001b[49m\u001b[38;5;241;43m=\u001b[39;49m\u001b[43merrors\u001b[49m\u001b[43m,\u001b[49m\n\u001b[1;32m    794\u001b[0m \u001b[43m            \u001b[49m\u001b[43mnewline\u001b[49m\u001b[38;5;241;43m=\u001b[39;49m\u001b[38;5;124;43m\"\u001b[39;49m\u001b[38;5;124;43m\"\u001b[39;49m\u001b[43m,\u001b[49m\n\u001b[1;32m    795\u001b[0m \u001b[43m        \u001b[49m\u001b[43m)\u001b[49m\n\u001b[1;32m    796\u001b[0m     \u001b[38;5;28;01melse\u001b[39;00m:\n\u001b[1;32m    797\u001b[0m         \u001b[38;5;66;03m# Binary mode\u001b[39;00m\n\u001b[1;32m    798\u001b[0m         handle \u001b[38;5;241m=\u001b[39m \u001b[38;5;28mopen\u001b[39m(handle, ioargs\u001b[38;5;241m.\u001b[39mmode)\n",
      "\u001b[0;31mFileNotFoundError\u001b[0m: [Errno 2] No such file or directory: '/datasets/logs_exp.csv'"
     ]
    }
   ],
   "source": [
    "try:\n",
    "    \n",
    "    df = pd.read_csv('logs_exp.csv', delimiter = \"\\t\") \n",
    "except:\n",
    "    \n",
    "    df = pd.read_csv('/datasets/logs_exp.csv', delimiter = \"\\t\")\n",
    "    "
   ]
  },
  {
   "cell_type": "code",
   "execution_count": null,
   "id": "3c987fbf",
   "metadata": {},
   "outputs": [],
   "source": [
    "df.head()"
   ]
  },
  {
   "cell_type": "code",
   "execution_count": null,
   "id": "9bae649e",
   "metadata": {},
   "outputs": [],
   "source": [
    "df.info()"
   ]
  },
  {
   "cell_type": "markdown",
   "id": "e51c8c0a",
   "metadata": {},
   "source": [
    "## Подготовка данных"
   ]
  },
  {
   "cell_type": "code",
   "execution_count": null,
   "id": "5a2f5a3f",
   "metadata": {},
   "outputs": [],
   "source": [
    "df = df.rename(columns={'EventName':'event_name', 'DeviceIDHash':'device_id',\n",
    "                        'EventTimestamp':'event_timestamp', 'ExpId':'exp_id'\n",
    "                       })\n",
    "print(df.columns)"
   ]
  },
  {
   "cell_type": "markdown",
   "id": "1edd495f",
   "metadata": {},
   "source": [
    "Переименовали столбцы и привели их названия к стандартам"
   ]
  },
  {
   "cell_type": "code",
   "execution_count": null,
   "id": "dc93f7be",
   "metadata": {},
   "outputs": [],
   "source": [
    "df['event_time'] = pd.to_datetime(df['event_timestamp'] , unit='s')\n",
    "df['event_time'].head()"
   ]
  },
  {
   "cell_type": "markdown",
   "id": "1d9950da",
   "metadata": {},
   "source": [
    "Перевели тип данных  времени в нужный формат и поместили эти данные в новый столбец"
   ]
  },
  {
   "cell_type": "code",
   "execution_count": null,
   "id": "b33d139d",
   "metadata": {},
   "outputs": [],
   "source": [
    "df['date'] = pd.to_datetime(df['event_time'].dt.date)\n",
    "df['date'].head()"
   ]
  },
  {
   "cell_type": "markdown",
   "id": "62fd6bb1",
   "metadata": {},
   "source": [
    "Добавили отдельный столбец с датами"
   ]
  },
  {
   "cell_type": "markdown",
   "id": "65a54cb7",
   "metadata": {},
   "source": [
    "## Изучение и проверка данных"
   ]
  },
  {
   "cell_type": "code",
   "execution_count": null,
   "id": "5dd2b050",
   "metadata": {},
   "outputs": [],
   "source": [
    "display(df.duplicated().sum())\n",
    "round(df.duplicated().sum() / len(df)*100, 2)"
   ]
  },
  {
   "cell_type": "markdown",
   "id": "9d08b984",
   "metadata": {},
   "source": [
    "Посчитали количество явных дубликатов. Во всем файле получилось 417 полных дубликатов, така как это всего 0.17% - можем их удалить:"
   ]
  },
  {
   "cell_type": "code",
   "execution_count": null,
   "id": "dc868735",
   "metadata": {},
   "outputs": [],
   "source": [
    "df = df.drop_duplicates().reset_index(drop=True)"
   ]
  },
  {
   "cell_type": "code",
   "execution_count": null,
   "id": "c34266f9",
   "metadata": {
    "scrolled": true
   },
   "outputs": [],
   "source": [
    "df.head()"
   ]
  },
  {
   "cell_type": "code",
   "execution_count": null,
   "id": "aebb1db0",
   "metadata": {},
   "outputs": [],
   "source": [
    "df.info()"
   ]
  },
  {
   "cell_type": "markdown",
   "id": "e889b5c8",
   "metadata": {},
   "source": [
    "Получили таблицу на 6 солонок и 243713 строк очищенных от дубликатов. Пропуски отсутствуют."
   ]
  },
  {
   "cell_type": "code",
   "execution_count": null,
   "id": "cc097d1b",
   "metadata": {},
   "outputs": [],
   "source": [
    "df['event_name'].unique()"
   ]
  },
  {
   "cell_type": "markdown",
   "id": "9c0cca1b",
   "metadata": {},
   "source": [
    "Выяснили, что в таблице содержится всего 5 уникальных событий, которые совершают пользователи."
   ]
  },
  {
   "cell_type": "code",
   "execution_count": null,
   "id": "0eea59b4",
   "metadata": {},
   "outputs": [],
   "source": [
    "df['device_id'].mean()"
   ]
  },
  {
   "cell_type": "markdown",
   "id": "c7b2785c",
   "metadata": {},
   "source": [
    "В логе всего 243713 событий"
   ]
  },
  {
   "cell_type": "code",
   "execution_count": null,
   "id": "ae348bc2",
   "metadata": {},
   "outputs": [],
   "source": [
    "df['device_id'].nunique()"
   ]
  },
  {
   "cell_type": "markdown",
   "id": "3cf60989",
   "metadata": {},
   "source": [
    "И 7551 уникальный пользователь"
   ]
  },
  {
   "cell_type": "code",
   "execution_count": null,
   "id": "2afb77f4",
   "metadata": {},
   "outputs": [],
   "source": [
    "plt.figure(figsize=(8,5))\n",
    "sns.histplot(data=df.groupby('device_id')[['event_name']].count(),x='event_name')\n",
    "plt.title('Количество событий на пользователя')\n",
    "plt.xlabel('Количество событий')\n",
    "plt.ylabel('Количество пользователей')\n",
    "plt.xlim(0,250);"
   ]
  },
  {
   "cell_type": "code",
   "execution_count": null,
   "id": "9c234a7c",
   "metadata": {
    "scrolled": true
   },
   "outputs": [],
   "source": [
    "df.groupby('device_id')['event_name'].agg('count').describe().round(1)"
   ]
  },
  {
   "cell_type": "markdown",
   "id": "dbeaa7e7",
   "metadata": {},
   "source": [
    "В среднем на одного пользователя приходится 32 события"
   ]
  },
  {
   "cell_type": "code",
   "execution_count": null,
   "id": "a8ae39b8",
   "metadata": {},
   "outputs": [],
   "source": [
    "df['event_time'].describe()"
   ]
  },
  {
   "cell_type": "markdown",
   "id": "b0705d3e",
   "metadata": {},
   "source": [
    "Проверим, данными за какой период мы обладаем. Нам предоставлены данные с 25 июля 2019 года по 7 августа 2019 года."
   ]
  },
  {
   "cell_type": "code",
   "execution_count": null,
   "id": "955ea4ba",
   "metadata": {
    "scrolled": true
   },
   "outputs": [],
   "source": [
    "sns.set_style(\"whitegrid\")\n",
    "plt.hist(data=df, x=\"event_time\")\n",
    "plt.xticks(rotation=30)\n",
    "plt.xlabel('Дата')\n",
    "plt.ylabel('Количество')\n",
    "plt.title('Количество логов по дням');"
   ]
  },
  {
   "cell_type": "markdown",
   "id": "56679f7d",
   "metadata": {},
   "source": [
    "По гистограмме видно, что не во все даты мы имеем полные данные, визуально можно определить, что наиболее полные данные появляются только с 1 августа 2019 года. Для дальнейшей работы можно отбросить более ранний период, не обладающий полной информацией,однако, сначала проверим какое количество данных мы потеряем. Безболезненно мы можем отбросить 1% данных, для этого посчитаем какая дата будет являться первым перцентилем:"
   ]
  },
  {
   "cell_type": "code",
   "execution_count": null,
   "id": "bdc1e301",
   "metadata": {},
   "outputs": [],
   "source": [
    "date_full=np.percentile(df['date'], 1)"
   ]
  },
  {
   "cell_type": "code",
   "execution_count": null,
   "id": "f27c7517",
   "metadata": {},
   "outputs": [],
   "source": [
    "new_df=df.query('date>@date_full')"
   ]
  },
  {
   "cell_type": "code",
   "execution_count": null,
   "id": "b5c0f408",
   "metadata": {},
   "outputs": [],
   "source": [
    "new_df['date'].describe()"
   ]
  },
  {
   "cell_type": "markdown",
   "id": "e5ccc884",
   "metadata": {},
   "source": [
    "Действительно, получилось, что во все дни до 1 августа 2019 года было получено всего 1% данных. Дальше будем изучать только оствашийся период: с 1 августа 2019 года по 7 августа 2019 года."
   ]
  },
  {
   "cell_type": "code",
   "execution_count": null,
   "id": "4395f9b7",
   "metadata": {},
   "outputs": [],
   "source": [
    "print('Процент потеряных событий:', round((1-new_df['event_name'].count()/df['event_name'].count())*100,2),'%')\n"
   ]
  },
  {
   "cell_type": "code",
   "execution_count": null,
   "id": "6e5e8a1b",
   "metadata": {},
   "outputs": [],
   "source": [
    "print('Процент потеряных пользователей:', round((1-new_df['device_id'].nunique()/df['device_id'].nunique())*100,2),'%')\n"
   ]
  },
  {
   "cell_type": "markdown",
   "id": "7f9029e3",
   "metadata": {},
   "source": [
    "При актуализации периода для изучения данных мы потеряли 1.16% событий и 0.23% пользователей, что является не существенным."
   ]
  },
  {
   "cell_type": "code",
   "execution_count": null,
   "id": "42073ce1",
   "metadata": {},
   "outputs": [],
   "source": [
    "new_df.groupby('device_id')['exp_id'].nunique().reset_index().query('exp_id > 1')"
   ]
  },
  {
   "cell_type": "markdown",
   "id": "399a7feb",
   "metadata": {},
   "source": [
    "Проверили, есть ли пользователи, которые попали в более чем одну группу тестирования. Таких пользователей не обнаружено."
   ]
  },
  {
   "cell_type": "code",
   "execution_count": null,
   "id": "56eb6e36",
   "metadata": {},
   "outputs": [],
   "source": [
    "new_df['exp_id'].unique()"
   ]
  },
  {
   "cell_type": "markdown",
   "id": "b50594e6",
   "metadata": {},
   "source": [
    "В таблице после обработки и актуализации периода остались пользователи всех трех групп. "
   ]
  },
  {
   "cell_type": "markdown",
   "id": "5bae1bbc",
   "metadata": {},
   "source": [
    "## Изучение воронки событий"
   ]
  },
  {
   "cell_type": "code",
   "execution_count": null,
   "id": "f10d0255",
   "metadata": {
    "scrolled": false
   },
   "outputs": [],
   "source": [
    "new_df.groupby('event_name')['device_id'].agg({'count', 'nunique'}).sort_values(by='count',ascending=False).reset_index()\n"
   ]
  },
  {
   "cell_type": "markdown",
   "id": "613c94f4",
   "metadata": {},
   "source": [
    "Посчитали, сколько раз встречалось каждое событие. Упорядочили по убыванию количества повторений. Самое частое событие: MainScreenAppear - 117328 повторений и 7419  уникальных пользователей приходится на это событие. OffersScreenAppear\t- имеет 46333 повторений на\t4593 уникальных пользователя, CartScreenAppear повторяется\t42303 раз и встречается у\t3734 пользователей, PaymentScreenSuccessful\tповторяется 33918 раз, количество уникальных пользователей - 3539, самое редкое событие: Tutorial(1005 раз и 840 пользователей), скорее всего оно не является этапом который участвует в процессе покупки товара, скорее всего это инструкция по работе с мобильным приложением, подавляющее большенство пользователей в нем не были заинтересованы.\t"
   ]
  },
  {
   "cell_type": "code",
   "execution_count": null,
   "id": "f8a7dbd0",
   "metadata": {
    "scrolled": true
   },
   "outputs": [],
   "source": [
    "\n",
    "funnel = (new_df.\n",
    "          groupby('event_name').\n",
    "          agg({'device_id': 'nunique'}).\n",
    "          reset_index().\n",
    "          rename(columns={'device_id' : 'total_users'}).\n",
    "          sort_values(by='total_users', ascending=False))\n",
    "funnel['percent'] = (funnel['total_users'] / new_df['device_id'].nunique() * 100).round(0)\n",
    "funnel['prev_step'] = funnel['total_users'].shift()\n",
    "funnel['step_conv'] = (funnel['total_users'] / funnel['prev_step'] * 100).round(0)\n",
    "funnel"
   ]
  },
  {
   "cell_type": "markdown",
   "id": "5f4ef84b",
   "metadata": {},
   "source": [
    "Удалив событие, не имеющее прямого отношения к покупке товара, можем предположить в какой последовательности происходили события: \n",
    "\n",
    "1. MainScreenAppear - появление главного экрана\n",
    "\n",
    "2. OffersScreenAppear - демонстрация товара (экран с товаром)\n",
    "\n",
    "3. CartScreenAppear - переход в корзину\n",
    "\n",
    "4. PaymentScreenSuccessful - экран успешной оплаты заказа.\n",
    "\n",
    "По логике, событие Tutorial должно было идти сразу за появлением главного экрана\n"
   ]
  },
  {
   "cell_type": "code",
   "execution_count": null,
   "id": "984e8e1b",
   "metadata": {},
   "outputs": [],
   "source": [
    "funnel_visual=new_df.query('event_name != \"Tutorial\"').groupby('event_name')['device_id'].nunique().sort_values(ascending=False).reset_index()\n",
    "\n",
    "fig=go.Figure(go.Funnel( y=funnel_visual['event_name'], x=funnel_visual['device_id'], \n",
    "                        textposition='inside', textinfo='value+percent previous+percent initial',opacity=0.85))\n",
    "fig.update_layout(title_text='Воронка событий')\n",
    "fig.show()"
   ]
  },
  {
   "cell_type": "markdown",
   "id": "4327aff3",
   "metadata": {},
   "source": [
    "Построив воронку событий мы получили следующие результаты:\n",
    "    \n",
    "    - Первое событие(открытие главного экрана приложения) совершили 7419 пользователей (все уникальные пользователи из рассматриваемых данных).\n",
    "    \n",
    "    - Второе событие(демонстрация товара) совершили уже 4593 пользователя, что составляет 62% от тех, которые совершили первый шаг.\n",
    "    \n",
    "    - Третье событие(переход в корзину) совершили еще меньше пользователей: 3734, что составляет 50% от всех пользователей, открывших главный экран приложения и 81% от просмотревших товар.\n",
    "    \n",
    "    - Последнее событие(экран успешной оплаты) был у 3539 пользователей, это 48% от совершивших первый шаг и 95% от перешедших в корзину.\n",
    "\n",
    "По полученным результатам можно сделать вывод, что больше всего пользователей теряется на этапе перехода к демонстрации товара, возможно необходимо размещать мотивирующие к переходу для просмотра товара позиции, акционные предложения и прочее. 38% пользователей не совершают этот переход. \n",
    "\n",
    "Самые маленькие потери пользователей на событии Экран успешной оплаты, т.е. из всех, перешедших в корзину, только 5% не совершают оплату. \n",
    "\n",
    "48% пользователей доходят от первого события до оплаты. Не плохая конверсия, но есть зона для роста.\n",
    "    "
   ]
  },
  {
   "cell_type": "markdown",
   "id": "797309c9",
   "metadata": {},
   "source": [
    "## Изучение результатов эксперимента"
   ]
  },
  {
   "cell_type": "code",
   "execution_count": null,
   "id": "e3ff75f9",
   "metadata": {},
   "outputs": [],
   "source": [
    "\n",
    "new_df = new_df.query('event_name != \"Tutorial\"')\n",
    "users_group = new_df.groupby('exp_id')['device_id'].nunique()\n",
    "users_group['246+247'] = users_group[246] + users_group[247]\n",
    "users_group"
   ]
  },
  {
   "cell_type": "markdown",
   "id": "8749470c",
   "metadata": {},
   "source": [
    "Посчитали количество пользователей в каждой контрольной группе: Группа 246 - 2483 пользователя, Группа 247 - 2512 пользователей, Группа 248 - 2535 пользователей. Создали  еще одну контрольную группу 246+247, объединив группы 246 и 247. В ней получилось 4995 пользователей."
   ]
  },
  {
   "cell_type": "code",
   "execution_count": null,
   "id": "0ce1cb49",
   "metadata": {},
   "outputs": [],
   "source": [
    "groups=new_df.pivot_table(index='event_name', columns='exp_id', values='device_id',\n",
    "                          aggfunc='nunique').sort_values(by=246,ascending=False)\n",
    "groups['246+247'] = groups[246] + groups[247]\n",
    "groups['miss_part246'] = ((1 - groups[246] / users_group[246]) * 100).round(1)\n",
    "groups['miss_part247'] = ((1 - groups[247] / users_group[247]) * 100).round(1)\n",
    "groups['miss_part248'] = ((1 - groups[248] / users_group[248]) * 100).round(1)\n",
    "groups[\"miss_part246+247\"] = ((1 - groups['246+247'] / users_group['246+247'])  * 100).round(1)\n",
    "\n",
    "groups.reset_index(inplace=True)\n",
    "groups"
   ]
  },
  {
   "cell_type": "markdown",
   "id": "ce89b8f4",
   "metadata": {},
   "source": [
    "В каждой группе есть не большой процент(1.3-1.7%) поьзователей, не совершивших первое событие, скорее всего это часть пользователей, оставшихся после корректировки периода. "
   ]
  },
  {
   "cell_type": "markdown",
   "id": "7612eed2",
   "metadata": {},
   "source": [
    "Создадим воронку событий по каждой контрольной группе:"
   ]
  },
  {
   "cell_type": "code",
   "execution_count": null,
   "id": "c4e32170",
   "metadata": {},
   "outputs": [],
   "source": [
    "fig_groups = go.Figure()\n",
    "fig_groups.add_trace(go.Funnel(name='246', y=groups['event_name'], x=groups[246], \n",
    "                        textposition='inside', textinfo='value+percent previous+percent initial'))\n",
    "fig_groups.add_trace(go.Funnel(name='247', y=groups['event_name'], x=groups[247], \n",
    "                        textposition='inside', textinfo='value+percent previous+percent initial'))\n",
    "fig_groups.add_trace(go.Funnel(name='248', y=groups['event_name'], x=groups[248], \n",
    "                        textposition='inside', textinfo='value+percent previous+percent initial'))\n",
    "fig_groups.add_trace(go.Funnel(name='246+247', y=groups['event_name'], x=groups['246+247'], \n",
    "                        textposition='inside', textinfo='value+percent previous+percent initial'))\n",
    "fig_groups.update_layout(title_text='Воронка событий в разрезе тестовых групп')"
   ]
  },
  {
   "cell_type": "markdown",
   "id": "5ec7839e",
   "metadata": {},
   "source": [
    " Самое популярное событие - MainScreenAppear, в гуппе 246 это событие совершили 2450 пользователей, в группе 247 - 2476 пользователей, в группе 248 -  2493 пользователя, в объединенной группе 246+247 - 4926 пользователей. \n",
    "\n",
    "Судя по воронке продаж, данные всех  групп очень близки по значениям."
   ]
  },
  {
   "cell_type": "markdown",
   "id": "6157ce48",
   "metadata": {},
   "source": [
    "В А/В-тестировании проверяем гипотезу о равенстве выборок, но сначала проверим находят ли статистические критерии разницу между выборками 246 и 247 (А/А-тест).Используем Z-критерий (статистический тест, позволяющий определить, различаются ли два средних значения генеральной совокупности, когда дисперсии известны и размер выборки велик). Для удобства, напишем функцию."
   ]
  },
  {
   "cell_type": "code",
   "execution_count": null,
   "id": "704b0b84",
   "metadata": {},
   "outputs": [],
   "source": [
    "def z_test(group1, group2, alpha): \n",
    "    p1_event = groups.loc[event_name, group1]\n",
    "    p2_event = groups.loc[event_name, group2] \n",
    "    p1_users = users_group.loc[group1] \n",
    "    p2_users = users_group.loc[group2] \n",
    "    \n",
    "    \n",
    "    p1 = p1_event / p1_users \n",
    "    p2 = p2_event / p2_users \n",
    "    \n",
    "    p_combined = (p1_event + p2_event) / (p1_users + p2_users) \n",
    "    difference = p1 - p2\n",
    "    \n",
    "    z_value = difference / mth.sqrt(p_combined * (1 - p_combined) * (1 / p1_users + 1 / p2_users))\n",
    "\n",
    "    distr = st.norm(0, 1)\n",
    "    p_value = (1 - distr.cdf(abs(z_value))) * 2\n",
    "    \n",
    "    bonferroni_alpha = alpha / 16\n",
    "    \n",
    "    print('Тестирование для групп {} и {}, событие: {}, p-значение: {p_value:.2f}'.format(group1, group2, event_name, p_value=p_value))\n",
    "    if (p_value < bonferroni_alpha):\n",
    "        print(\"Отвергаем нулевую гипотезу о равенстве данных в группах\")\n",
    "    else:\n",
    "        print(\"Не получилось отвергнуть нулевую гипотезу о равенстве данных в группах\")"
   ]
  },
  {
   "cell_type": "markdown",
   "id": "73350a26",
   "metadata": {},
   "source": [
    "Зададим гипотезы для наших тестов:\n",
    "\n",
    "H0: Статистически значимой разницы между группами нет\n",
    "\n",
    "H1: Статистически значимая разница между группами есть"
   ]
  },
  {
   "cell_type": "code",
   "execution_count": null,
   "id": "dfe625c0",
   "metadata": {
    "scrolled": true
   },
   "outputs": [],
   "source": [
    "for event_name in groups.index:\n",
    "    z_test(246, 247, 0.01)\n",
    "    print()\n"
   ]
  },
  {
   "cell_type": "markdown",
   "id": "eaa7954b",
   "metadata": {},
   "source": [
    "Статистически значимой разницы между контрольными  группами 246 и 247 не выявлено."
   ]
  },
  {
   "cell_type": "code",
   "execution_count": null,
   "id": "77eee1ef",
   "metadata": {},
   "outputs": [],
   "source": [
    "for event_name in groups.index:\n",
    "    z_test(246, 248, 0.01)\n",
    "    print()"
   ]
  },
  {
   "cell_type": "markdown",
   "id": "0489e736",
   "metadata": {},
   "source": [
    "Для первой контрольной группы и группы с измененным шрифтом статистически значимой разницы не обнаружено."
   ]
  },
  {
   "cell_type": "code",
   "execution_count": null,
   "id": "21fe2816",
   "metadata": {},
   "outputs": [],
   "source": [
    "for event_name in groups.index:\n",
    "    z_test(247, 248, 0.01)\n",
    "    print()"
   ]
  },
  {
   "cell_type": "markdown",
   "id": "9cd270ff",
   "metadata": {},
   "source": [
    "Для второй контрольной группы и группы с измененным шрифтом статистически значимой разницы не найдено."
   ]
  },
  {
   "cell_type": "code",
   "execution_count": null,
   "id": "9e0b0c10",
   "metadata": {},
   "outputs": [],
   "source": [
    "for event_name in groups.index:\n",
    "    z_test('246+247', 248, 0.01)\n",
    "    print()"
   ]
  },
  {
   "cell_type": "markdown",
   "id": "1dbec947",
   "metadata": {},
   "source": [
    "Для объединенной контрольной группы и группы с измененным шрифтом статистически значимой разницы также не обнаружено. "
   ]
  },
  {
   "cell_type": "markdown",
   "id": "f7cafbb7",
   "metadata": {},
   "source": [
    "# Выводы"
   ]
  },
  {
   "cell_type": "markdown",
   "id": "76661121",
   "metadata": {},
   "source": [
    "Для интернет-магазина продуктов было проведено исследование. Целью исследования было изучить воронку продаж, узнать как пользователи доходят до покупки, узнать сколько пользователей доходят до покупки, выяснить на каких этапах теряются пользователи, исследовать результаты А/А/В-эксперимента: дизайнеры предложили поменять шрифт\n",
    "выяснить, какой шрифт лучше. \n",
    "\n",
    "В ходе работы  стало видно, что не во все даты имеются полные данные, получилось определить, что наиболее полные данные появляются только с 1 августа 2019 года. Были отброшены данные за более ранний период, не обладающий полной информацией, количество  потеряенных данных составило 1%, в их числе 1.16% событий и 0.23% пользователей. Актуальный период: с 1 августа 2019 года по 7 августа 2019 года.\n",
    "\n",
    "Выяснилось, что самое частое событие: MainScreenAppear - 117328 повторений и 7419 уникальных пользователей приходится на это событие. OffersScreenAppear - имеет 46333 повторений на 4593 уникальных пользователя, CartScreenAppear повторяется 42303 раз и встречается у 3734 пользователей, PaymentScreenSuccessful повторяется 33918 раз, количество уникальных пользователей - 3539, самое редкое событие: Tutorial(1005 раз и 840 пользователей), скорее всего оно не является этапом который участвует в процессе покупки товара, возможно, это инструкция по работе с мобильным приложением, подавляющее большенство пользователей в нем не были заинтересованы.\n",
    "\n",
    "Последовательность событий, скорее всего, следующая:\n",
    "\n",
    "1. MainScreenAppear - появление главного экрана\n",
    "\n",
    "2. Tutorial - инструкция \n",
    "\n",
    "3. OffersScreenAppear - демонстрация товара (экран с товаром)\n",
    "\n",
    "4. CartScreenAppear - переход в корзину\n",
    "\n",
    "5. PaymentScreenSuccessful - экран успешной оплаты заказа.\n",
    "\n",
    "Для построения воронки событий мы удалили событие Tutorial, так как оно не имеет отношения к процессу покупки и получили  следующие результаты:\n",
    "\n",
    "- Первое событие(открытие главного экрана приложения) совершили 7419 пользователей (все уникальные пользователи из рассматриваемых данных).\n",
    "\n",
    "- Второе событие(демонстрация товара) совершили уже 4593 пользователя, что составляет 62% от тех, которые совершили первый шаг.\n",
    "\n",
    "- Третье событие(переход в корзину) совершили еще меньше пользователей: 3734, что составляет 50% от всех пользователей, открывших главный экран приложения и 81% от просмотревших товар.\n",
    "\n",
    "- Последнее событие(экран успешной оплаты) был у 3539 пользователей, это 48% от совершивших первый шаг и 95% от перешедших в корзину.\n",
    "\n",
    "По полученным результатам можно сделать вывод, что больше всего пользователей теряется на этапе перехода к демонстрации товара, возможно необходимо размещать мотивирующие к переходу для просмотра товара позиции, акционные предложения и прочее. 38% пользователей не совершают этот переход.\n",
    "Самые маленькие потери пользователей на событии \"Экран успешной оплаты\", т.е. из всех, перешедших в корзину, только 5% не совершают оплату.\n",
    "48% пользователей доходят от первого события до оплаты. Не плохая конверсия, но есть зона для роста.\n",
    "\n",
    "Для изучения результатов А/А/В теста посчитали количество пользователей в каждой контрольной группе: Группа 246 - 2483 пользователя, Группа 247 - 2512 пользователей, Группа 248 - 2535 пользователей. Создали еще одну контрольную группу 246+247, объединив группы 246 и 247. В ней получилось 4995 пользователей.\n",
    "\n",
    "В каждой группе есть не большой процент(1.3-1.7%) поьзователей, не совершивших первое событие, скорее всего это часть пользователей, оставшихся после корректировки периода.\n",
    "\n",
    "Самое популярное событие - MainScreenAppear, в гуппе 246 это событие совершили 2450 пользователей, в группе 247 - 2476 пользователей, в группе 248 -  2493 пользователя, в объединенной группе 246+247 - 4926 пользователей. \n",
    "\n",
    "Судя по воронке событий, данные всех  групп очень близки по значениям. И можно сказать, что разбиение на группы работает корректно.\n",
    "\n",
    "В А/В-тестировании проверли гипотезу о равенстве выборок, но сначала проверили, находят ли статистические критерии разницу между выборками 246 и 247 (А/А-тест).Использовали Z-критерий (статистический тест, позволяющий определить, различаются ли два средних значения генеральной совокупности, когда дисперсии известны и размер выборки велик).\n",
    "\n",
    "Гипотезы для проверки: \n",
    "\n",
    "H0: Статистически значимой разницы между группами нет\n",
    "\n",
    "\n",
    "H1: Статистически значимая разница между группами есть\n",
    "\n",
    "При проверке статистических гипотез  выбрали уровень значимости равный 1%. Мы сделали 16 проверок статистических гипотез, при таком количестве возникает вероятность ошибки ложноположительного результата. Для того, чтобы групповая вероятность ошибки в данном случае не превышала определенный уровень значимости α (в нашем случае - 0.01), была применена поправка Бонферрони к коэффициенту статистической значимости.\n",
    "\n",
    "Статистически значимой разницы между группами во всех тестах выявлено не было.\n",
    "Значит, изменение шрифта не повлияло ни на один этап воронки продаж. Опасения менеджеров, что пользователям будет непривычно не оправдались. Изменения шрифтов для всех пользователей можно применять либо оставить все как есть и искать иные гипотезы для улучшения конверсии и повышения бизнес-показателей."
   ]
  }
 ],
 "metadata": {
  "ExecuteTimeLog": [
   {
    "duration": 1410,
    "start_time": "2023-02-17T08:13:20.331Z"
   },
   {
    "duration": 924,
    "start_time": "2023-02-17T08:13:21.743Z"
   },
   {
    "duration": 13,
    "start_time": "2023-02-17T08:13:22.669Z"
   },
   {
    "duration": 20,
    "start_time": "2023-02-17T08:13:22.685Z"
   },
   {
    "duration": 9,
    "start_time": "2023-02-17T08:13:22.707Z"
   },
   {
    "duration": 20,
    "start_time": "2023-02-17T08:13:22.718Z"
   },
   {
    "duration": 110,
    "start_time": "2023-02-17T08:13:22.740Z"
   },
   {
    "duration": 151,
    "start_time": "2023-02-17T08:13:22.851Z"
   },
   {
    "duration": 104,
    "start_time": "2023-02-17T08:13:23.004Z"
   },
   {
    "duration": 9,
    "start_time": "2023-02-17T08:13:23.110Z"
   },
   {
    "duration": 18,
    "start_time": "2023-02-17T08:13:23.126Z"
   },
   {
    "duration": 17,
    "start_time": "2023-02-17T08:13:23.145Z"
   },
   {
    "duration": 10,
    "start_time": "2023-02-17T08:13:23.163Z"
   },
   {
    "duration": 12,
    "start_time": "2023-02-17T08:13:23.175Z"
   },
   {
    "duration": 39,
    "start_time": "2023-02-17T08:13:23.189Z"
   },
   {
    "duration": 26,
    "start_time": "2023-02-17T08:13:23.229Z"
   },
   {
    "duration": 2250,
    "start_time": "2023-02-17T08:13:23.257Z"
   },
   {
    "duration": 24,
    "start_time": "2023-02-17T08:13:25.509Z"
   },
   {
    "duration": 16,
    "start_time": "2023-02-17T08:13:25.535Z"
   },
   {
    "duration": 12,
    "start_time": "2023-02-17T08:13:25.552Z"
   },
   {
    "duration": 18,
    "start_time": "2023-02-17T08:13:25.565Z"
   },
   {
    "duration": 11,
    "start_time": "2023-02-17T08:13:25.585Z"
   },
   {
    "duration": 64,
    "start_time": "2023-02-17T08:13:25.598Z"
   },
   {
    "duration": 4,
    "start_time": "2023-02-17T08:13:25.664Z"
   },
   {
    "duration": 80,
    "start_time": "2023-02-17T08:13:25.669Z"
   },
   {
    "duration": 76,
    "start_time": "2023-02-17T08:13:25.751Z"
   },
   {
    "duration": 200,
    "start_time": "2023-02-17T08:13:25.828Z"
   },
   {
    "duration": 43,
    "start_time": "2023-02-17T08:13:26.031Z"
   },
   {
    "duration": 152,
    "start_time": "2023-02-17T08:13:26.076Z"
   },
   {
    "duration": 15,
    "start_time": "2023-02-17T08:13:26.229Z"
   },
   {
    "duration": 6,
    "start_time": "2023-02-17T08:13:26.245Z"
   },
   {
    "duration": 10,
    "start_time": "2023-02-17T08:13:26.252Z"
   },
   {
    "duration": 13,
    "start_time": "2023-02-17T08:13:26.264Z"
   },
   {
    "duration": 8,
    "start_time": "2023-02-17T08:13:26.279Z"
   },
   {
    "duration": 8,
    "start_time": "2023-02-17T08:13:26.289Z"
   },
   {
    "duration": 4,
    "start_time": "2023-02-17T09:04:43.771Z"
   },
   {
    "duration": 5,
    "start_time": "2023-02-17T09:16:03.872Z"
   },
   {
    "duration": 1415,
    "start_time": "2023-02-17T13:27:32.794Z"
   },
   {
    "duration": 799,
    "start_time": "2023-02-17T13:27:34.212Z"
   },
   {
    "duration": 11,
    "start_time": "2023-02-17T13:27:35.013Z"
   },
   {
    "duration": 25,
    "start_time": "2023-02-17T13:27:35.026Z"
   },
   {
    "duration": 7,
    "start_time": "2023-02-17T13:27:35.054Z"
   },
   {
    "duration": 16,
    "start_time": "2023-02-17T13:27:35.063Z"
   },
   {
    "duration": 131,
    "start_time": "2023-02-17T13:27:35.081Z"
   },
   {
    "duration": 185,
    "start_time": "2023-02-17T13:27:35.214Z"
   },
   {
    "duration": 112,
    "start_time": "2023-02-17T13:27:35.401Z"
   },
   {
    "duration": 11,
    "start_time": "2023-02-17T13:27:35.514Z"
   },
   {
    "duration": 36,
    "start_time": "2023-02-17T13:27:35.527Z"
   },
   {
    "duration": 27,
    "start_time": "2023-02-17T13:27:35.565Z"
   },
   {
    "duration": 14,
    "start_time": "2023-02-17T13:27:35.593Z"
   },
   {
    "duration": 32,
    "start_time": "2023-02-17T13:27:35.609Z"
   },
   {
    "duration": 123,
    "start_time": "2023-02-17T13:27:35.643Z"
   },
   {
    "duration": 0,
    "start_time": "2023-02-17T13:27:35.768Z"
   },
   {
    "duration": 0,
    "start_time": "2023-02-17T13:27:35.769Z"
   },
   {
    "duration": 0,
    "start_time": "2023-02-17T13:27:35.770Z"
   },
   {
    "duration": 0,
    "start_time": "2023-02-17T13:27:35.771Z"
   },
   {
    "duration": 0,
    "start_time": "2023-02-17T13:27:35.772Z"
   },
   {
    "duration": 0,
    "start_time": "2023-02-17T13:27:35.773Z"
   },
   {
    "duration": 0,
    "start_time": "2023-02-17T13:27:35.774Z"
   },
   {
    "duration": 0,
    "start_time": "2023-02-17T13:27:35.775Z"
   },
   {
    "duration": 0,
    "start_time": "2023-02-17T13:27:35.776Z"
   },
   {
    "duration": 0,
    "start_time": "2023-02-17T13:27:35.777Z"
   },
   {
    "duration": 0,
    "start_time": "2023-02-17T13:27:35.778Z"
   },
   {
    "duration": 0,
    "start_time": "2023-02-17T13:27:35.779Z"
   },
   {
    "duration": 0,
    "start_time": "2023-02-17T13:27:35.780Z"
   },
   {
    "duration": 0,
    "start_time": "2023-02-17T13:27:35.781Z"
   },
   {
    "duration": 0,
    "start_time": "2023-02-17T13:27:35.782Z"
   },
   {
    "duration": 0,
    "start_time": "2023-02-17T13:27:35.784Z"
   },
   {
    "duration": 0,
    "start_time": "2023-02-17T13:27:35.784Z"
   },
   {
    "duration": 0,
    "start_time": "2023-02-17T13:27:35.786Z"
   },
   {
    "duration": 0,
    "start_time": "2023-02-17T13:27:35.787Z"
   },
   {
    "duration": 0,
    "start_time": "2023-02-17T13:27:35.788Z"
   },
   {
    "duration": 5,
    "start_time": "2023-02-17T13:30:43.134Z"
   },
   {
    "duration": 22,
    "start_time": "2023-02-17T13:30:49.935Z"
   },
   {
    "duration": 31,
    "start_time": "2023-02-17T13:31:48.268Z"
   },
   {
    "duration": 60,
    "start_time": "2023-02-17T13:32:06.872Z"
   },
   {
    "duration": 56,
    "start_time": "2023-02-17T13:36:22.814Z"
   },
   {
    "duration": 57,
    "start_time": "2023-02-17T13:42:23.816Z"
   },
   {
    "duration": 156,
    "start_time": "2023-02-17T13:42:27.639Z"
   },
   {
    "duration": 16,
    "start_time": "2023-02-17T13:44:21.443Z"
   },
   {
    "duration": 19,
    "start_time": "2023-02-17T13:48:43.525Z"
   },
   {
    "duration": 24,
    "start_time": "2023-02-17T13:48:51.380Z"
   },
   {
    "duration": 25,
    "start_time": "2023-02-17T13:48:58.649Z"
   },
   {
    "duration": 20,
    "start_time": "2023-02-17T13:49:02.617Z"
   },
   {
    "duration": 20,
    "start_time": "2023-02-17T13:49:10.102Z"
   },
   {
    "duration": 14,
    "start_time": "2023-02-17T14:33:13.795Z"
   },
   {
    "duration": 693,
    "start_time": "2023-02-17T14:33:46.605Z"
   },
   {
    "duration": 13,
    "start_time": "2023-02-17T14:34:09.102Z"
   },
   {
    "duration": 185,
    "start_time": "2023-02-17T14:34:25.091Z"
   },
   {
    "duration": 14,
    "start_time": "2023-02-17T15:13:02.973Z"
   },
   {
    "duration": 738,
    "start_time": "2023-02-17T15:14:05.705Z"
   },
   {
    "duration": 705,
    "start_time": "2023-02-17T15:14:22.738Z"
   },
   {
    "duration": 9,
    "start_time": "2023-02-17T15:14:38.026Z"
   },
   {
    "duration": 61,
    "start_time": "2023-02-17T15:14:52.900Z"
   },
   {
    "duration": 10,
    "start_time": "2023-02-17T15:15:26.674Z"
   },
   {
    "duration": 13,
    "start_time": "2023-02-17T15:18:06.141Z"
   },
   {
    "duration": 36,
    "start_time": "2023-02-17T15:18:19.897Z"
   },
   {
    "duration": 14,
    "start_time": "2023-02-17T15:18:33.907Z"
   },
   {
    "duration": 39548,
    "start_time": "2023-02-17T15:18:37.537Z"
   },
   {
    "duration": 5,
    "start_time": "2023-02-17T15:19:58.873Z"
   },
   {
    "duration": 2479,
    "start_time": "2023-02-17T15:26:44.596Z"
   },
   {
    "duration": 750,
    "start_time": "2023-02-17T15:26:55.573Z"
   },
   {
    "duration": 20,
    "start_time": "2023-02-17T15:27:33.346Z"
   },
   {
    "duration": 12,
    "start_time": "2023-02-17T15:27:37.588Z"
   },
   {
    "duration": 830,
    "start_time": "2023-02-17T15:27:51.426Z"
   },
   {
    "duration": 1354,
    "start_time": "2023-02-17T15:29:02.510Z"
   },
   {
    "duration": 204,
    "start_time": "2023-02-17T15:29:03.866Z"
   },
   {
    "duration": 13,
    "start_time": "2023-02-17T15:29:04.071Z"
   },
   {
    "duration": 23,
    "start_time": "2023-02-17T15:29:04.086Z"
   },
   {
    "duration": 32,
    "start_time": "2023-02-17T15:29:04.111Z"
   },
   {
    "duration": 16,
    "start_time": "2023-02-17T15:29:04.145Z"
   },
   {
    "duration": 128,
    "start_time": "2023-02-17T15:29:04.163Z"
   },
   {
    "duration": 179,
    "start_time": "2023-02-17T15:29:04.293Z"
   },
   {
    "duration": 123,
    "start_time": "2023-02-17T15:29:04.473Z"
   },
   {
    "duration": 14,
    "start_time": "2023-02-17T15:29:04.599Z"
   },
   {
    "duration": 39,
    "start_time": "2023-02-17T15:29:04.615Z"
   },
   {
    "duration": 25,
    "start_time": "2023-02-17T15:29:04.656Z"
   },
   {
    "duration": 8,
    "start_time": "2023-02-17T15:29:04.683Z"
   },
   {
    "duration": 19,
    "start_time": "2023-02-17T15:29:04.695Z"
   },
   {
    "duration": 138,
    "start_time": "2023-02-17T15:29:04.716Z"
   },
   {
    "duration": 0,
    "start_time": "2023-02-17T15:29:04.857Z"
   },
   {
    "duration": 0,
    "start_time": "2023-02-17T15:29:04.858Z"
   },
   {
    "duration": 0,
    "start_time": "2023-02-17T15:29:04.859Z"
   },
   {
    "duration": 0,
    "start_time": "2023-02-17T15:29:04.861Z"
   },
   {
    "duration": 0,
    "start_time": "2023-02-17T15:29:04.863Z"
   },
   {
    "duration": 0,
    "start_time": "2023-02-17T15:29:04.864Z"
   },
   {
    "duration": 0,
    "start_time": "2023-02-17T15:29:04.865Z"
   },
   {
    "duration": 0,
    "start_time": "2023-02-17T15:29:04.867Z"
   },
   {
    "duration": 0,
    "start_time": "2023-02-17T15:29:04.869Z"
   },
   {
    "duration": 0,
    "start_time": "2023-02-17T15:29:04.871Z"
   },
   {
    "duration": 0,
    "start_time": "2023-02-17T15:29:04.872Z"
   },
   {
    "duration": 0,
    "start_time": "2023-02-17T15:29:04.873Z"
   },
   {
    "duration": 0,
    "start_time": "2023-02-17T15:29:04.874Z"
   },
   {
    "duration": 0,
    "start_time": "2023-02-17T15:29:04.875Z"
   },
   {
    "duration": 0,
    "start_time": "2023-02-17T15:29:04.876Z"
   },
   {
    "duration": 0,
    "start_time": "2023-02-17T15:29:04.878Z"
   },
   {
    "duration": 0,
    "start_time": "2023-02-17T15:29:04.878Z"
   },
   {
    "duration": 0,
    "start_time": "2023-02-17T15:29:04.880Z"
   },
   {
    "duration": 0,
    "start_time": "2023-02-17T15:29:04.881Z"
   },
   {
    "duration": 0,
    "start_time": "2023-02-17T15:29:04.882Z"
   },
   {
    "duration": 3,
    "start_time": "2023-02-17T15:29:18.437Z"
   },
   {
    "duration": 33,
    "start_time": "2023-02-17T15:29:19.910Z"
   },
   {
    "duration": 778,
    "start_time": "2023-02-17T15:29:20.962Z"
   },
   {
    "duration": 278,
    "start_time": "2023-02-17T15:30:46.706Z"
   },
   {
    "duration": 333,
    "start_time": "2023-02-17T15:30:51.953Z"
   },
   {
    "duration": 247,
    "start_time": "2023-02-17T15:32:33.227Z"
   },
   {
    "duration": 273,
    "start_time": "2023-02-17T15:34:00.370Z"
   },
   {
    "duration": 171,
    "start_time": "2023-02-17T15:43:07.422Z"
   },
   {
    "duration": 14,
    "start_time": "2023-02-17T15:43:46.515Z"
   },
   {
    "duration": 11,
    "start_time": "2023-02-17T15:44:22.197Z"
   },
   {
    "duration": 61,
    "start_time": "2023-02-17T15:45:09.096Z"
   },
   {
    "duration": 134,
    "start_time": "2023-02-17T15:45:17.436Z"
   },
   {
    "duration": 16,
    "start_time": "2023-02-17T15:45:26.506Z"
   },
   {
    "duration": 14,
    "start_time": "2023-02-17T15:45:40.826Z"
   },
   {
    "duration": 16,
    "start_time": "2023-02-17T15:46:24.744Z"
   },
   {
    "duration": 174,
    "start_time": "2023-02-17T15:47:13.415Z"
   },
   {
    "duration": 280,
    "start_time": "2023-02-17T15:47:31.045Z"
   },
   {
    "duration": 29,
    "start_time": "2023-02-17T15:47:59.603Z"
   },
   {
    "duration": 200,
    "start_time": "2023-02-17T15:50:24.493Z"
   },
   {
    "duration": 216,
    "start_time": "2023-02-17T15:55:57.510Z"
   },
   {
    "duration": 170,
    "start_time": "2023-02-17T15:56:28.166Z"
   },
   {
    "duration": 214,
    "start_time": "2023-02-17T15:56:50.808Z"
   },
   {
    "duration": 56,
    "start_time": "2023-02-17T21:19:07.640Z"
   },
   {
    "duration": 1290,
    "start_time": "2023-02-17T21:19:17.162Z"
   },
   {
    "duration": 24,
    "start_time": "2023-02-17T21:19:38.737Z"
   },
   {
    "duration": 30,
    "start_time": "2023-02-17T21:19:57.084Z"
   },
   {
    "duration": 11,
    "start_time": "2023-02-17T21:21:10.950Z"
   },
   {
    "duration": 285,
    "start_time": "2023-02-17T21:21:15.911Z"
   },
   {
    "duration": 246,
    "start_time": "2023-02-17T21:21:27.487Z"
   },
   {
    "duration": 247,
    "start_time": "2023-02-17T21:21:33.143Z"
   },
   {
    "duration": 1304,
    "start_time": "2023-02-17T21:23:52.205Z"
   },
   {
    "duration": 410,
    "start_time": "2023-02-17T21:23:53.511Z"
   },
   {
    "duration": 13,
    "start_time": "2023-02-17T21:23:53.923Z"
   },
   {
    "duration": 70,
    "start_time": "2023-02-17T21:23:53.938Z"
   },
   {
    "duration": 23,
    "start_time": "2023-02-17T21:23:54.011Z"
   },
   {
    "duration": 31,
    "start_time": "2023-02-17T21:23:54.035Z"
   },
   {
    "duration": 116,
    "start_time": "2023-02-17T21:23:54.067Z"
   },
   {
    "duration": 190,
    "start_time": "2023-02-17T21:23:54.185Z"
   },
   {
    "duration": 129,
    "start_time": "2023-02-17T21:23:54.377Z"
   },
   {
    "duration": 10,
    "start_time": "2023-02-17T21:23:54.508Z"
   },
   {
    "duration": 45,
    "start_time": "2023-02-17T21:23:54.520Z"
   },
   {
    "duration": 20,
    "start_time": "2023-02-17T21:23:54.567Z"
   },
   {
    "duration": 12,
    "start_time": "2023-02-17T21:23:54.589Z"
   },
   {
    "duration": 10,
    "start_time": "2023-02-17T21:23:54.605Z"
   },
   {
    "duration": 1271,
    "start_time": "2023-02-17T21:23:54.617Z"
   },
   {
    "duration": 24,
    "start_time": "2023-02-17T21:23:55.890Z"
   },
   {
    "duration": 48,
    "start_time": "2023-02-17T21:23:55.916Z"
   },
   {
    "duration": 349,
    "start_time": "2023-02-17T21:23:55.965Z"
   },
   {
    "duration": 33,
    "start_time": "2023-02-17T21:23:56.316Z"
   },
   {
    "duration": 15,
    "start_time": "2023-02-17T21:23:56.350Z"
   },
   {
    "duration": 16,
    "start_time": "2023-02-17T21:23:56.367Z"
   },
   {
    "duration": 23,
    "start_time": "2023-02-17T21:23:56.384Z"
   },
   {
    "duration": 39,
    "start_time": "2023-02-17T21:23:56.409Z"
   },
   {
    "duration": 43,
    "start_time": "2023-02-17T21:23:56.449Z"
   },
   {
    "duration": 5,
    "start_time": "2023-02-17T21:23:56.494Z"
   },
   {
    "duration": 94,
    "start_time": "2023-02-17T21:23:56.500Z"
   },
   {
    "duration": 85,
    "start_time": "2023-02-17T21:23:56.596Z"
   },
   {
    "duration": 177,
    "start_time": "2023-02-17T21:23:56.683Z"
   },
   {
    "duration": 79,
    "start_time": "2023-02-17T21:23:56.862Z"
   },
   {
    "duration": 140,
    "start_time": "2023-02-17T21:23:56.943Z"
   },
   {
    "duration": 19,
    "start_time": "2023-02-17T21:23:57.085Z"
   },
   {
    "duration": 7,
    "start_time": "2023-02-17T21:23:57.106Z"
   },
   {
    "duration": 34,
    "start_time": "2023-02-17T21:23:57.116Z"
   },
   {
    "duration": 17,
    "start_time": "2023-02-17T21:23:57.152Z"
   },
   {
    "duration": 11,
    "start_time": "2023-02-17T21:23:57.171Z"
   },
   {
    "duration": 12,
    "start_time": "2023-02-17T21:23:57.183Z"
   },
   {
    "duration": 1306,
    "start_time": "2023-02-17T21:33:39.051Z"
   },
   {
    "duration": 176,
    "start_time": "2023-02-17T21:36:28.233Z"
   },
   {
    "duration": 90,
    "start_time": "2023-02-17T21:37:09.267Z"
   },
   {
    "duration": 77,
    "start_time": "2023-02-17T21:37:19.839Z"
   },
   {
    "duration": 78,
    "start_time": "2023-02-17T21:37:37.295Z"
   },
   {
    "duration": 26,
    "start_time": "2023-02-17T21:38:08.649Z"
   },
   {
    "duration": 64,
    "start_time": "2023-02-17T21:38:57.156Z"
   },
   {
    "duration": 64,
    "start_time": "2023-02-17T21:39:03.932Z"
   },
   {
    "duration": 1286,
    "start_time": "2023-02-17T21:40:05.462Z"
   },
   {
    "duration": 385,
    "start_time": "2023-02-17T21:40:06.750Z"
   },
   {
    "duration": 14,
    "start_time": "2023-02-17T21:40:07.137Z"
   },
   {
    "duration": 25,
    "start_time": "2023-02-17T21:40:07.153Z"
   },
   {
    "duration": 8,
    "start_time": "2023-02-17T21:40:07.180Z"
   },
   {
    "duration": 16,
    "start_time": "2023-02-17T21:40:07.190Z"
   },
   {
    "duration": 145,
    "start_time": "2023-02-17T21:40:07.208Z"
   },
   {
    "duration": 194,
    "start_time": "2023-02-17T21:40:07.355Z"
   },
   {
    "duration": 116,
    "start_time": "2023-02-17T21:40:07.551Z"
   },
   {
    "duration": 9,
    "start_time": "2023-02-17T21:40:07.669Z"
   },
   {
    "duration": 35,
    "start_time": "2023-02-17T21:40:07.680Z"
   },
   {
    "duration": 27,
    "start_time": "2023-02-17T21:40:07.716Z"
   },
   {
    "duration": 5,
    "start_time": "2023-02-17T21:40:07.745Z"
   },
   {
    "duration": 11,
    "start_time": "2023-02-17T21:40:07.753Z"
   },
   {
    "duration": 1314,
    "start_time": "2023-02-17T21:40:07.766Z"
   },
   {
    "duration": 24,
    "start_time": "2023-02-17T21:40:09.082Z"
   },
   {
    "duration": 46,
    "start_time": "2023-02-17T21:40:09.108Z"
   },
   {
    "duration": 327,
    "start_time": "2023-02-17T21:40:09.156Z"
   },
   {
    "duration": 24,
    "start_time": "2023-02-17T21:40:09.486Z"
   },
   {
    "duration": 36,
    "start_time": "2023-02-17T21:40:09.512Z"
   },
   {
    "duration": 15,
    "start_time": "2023-02-17T21:40:09.550Z"
   },
   {
    "duration": 24,
    "start_time": "2023-02-17T21:40:09.567Z"
   },
   {
    "duration": 14,
    "start_time": "2023-02-17T21:40:09.593Z"
   },
   {
    "duration": 71,
    "start_time": "2023-02-17T21:40:09.609Z"
   },
   {
    "duration": 6,
    "start_time": "2023-02-17T21:40:09.682Z"
   },
   {
    "duration": 92,
    "start_time": "2023-02-17T21:40:09.689Z"
   },
   {
    "duration": 77,
    "start_time": "2023-02-17T21:40:09.783Z"
   },
   {
    "duration": 3249,
    "start_time": "2023-02-17T21:40:09.862Z"
   },
   {
    "duration": 0,
    "start_time": "2023-02-17T21:40:13.113Z"
   },
   {
    "duration": 0,
    "start_time": "2023-02-17T21:40:13.114Z"
   },
   {
    "duration": 0,
    "start_time": "2023-02-17T21:40:13.116Z"
   },
   {
    "duration": 0,
    "start_time": "2023-02-17T21:40:13.116Z"
   },
   {
    "duration": 0,
    "start_time": "2023-02-17T21:40:13.118Z"
   },
   {
    "duration": 0,
    "start_time": "2023-02-17T21:40:13.119Z"
   },
   {
    "duration": 0,
    "start_time": "2023-02-17T21:40:13.120Z"
   },
   {
    "duration": 0,
    "start_time": "2023-02-17T21:40:13.121Z"
   },
   {
    "duration": 649,
    "start_time": "2023-02-17T21:41:02.756Z"
   },
   {
    "duration": 1614,
    "start_time": "2023-02-17T21:41:19.017Z"
   },
   {
    "duration": 185,
    "start_time": "2023-02-17T21:46:29.528Z"
   },
   {
    "duration": 21,
    "start_time": "2023-02-17T21:47:21.778Z"
   },
   {
    "duration": 117,
    "start_time": "2023-02-17T21:47:34.292Z"
   },
   {
    "duration": 118,
    "start_time": "2023-02-17T21:47:43.872Z"
   },
   {
    "duration": 14,
    "start_time": "2023-02-17T21:48:02.281Z"
   },
   {
    "duration": 4,
    "start_time": "2023-02-17T21:49:14.462Z"
   },
   {
    "duration": 250,
    "start_time": "2023-02-17T21:49:19.442Z"
   },
   {
    "duration": 120,
    "start_time": "2023-02-17T21:49:29.532Z"
   },
   {
    "duration": 1252,
    "start_time": "2023-02-17T21:50:38.648Z"
   },
   {
    "duration": 1309,
    "start_time": "2023-02-17T21:53:06.852Z"
   },
   {
    "duration": 1319,
    "start_time": "2023-02-17T21:53:56.635Z"
   },
   {
    "duration": 1425,
    "start_time": "2023-02-17T21:58:36.388Z"
   },
   {
    "duration": 54,
    "start_time": "2023-02-17T21:58:55.354Z"
   },
   {
    "duration": 81,
    "start_time": "2023-02-17T22:00:18.520Z"
   },
   {
    "duration": 742,
    "start_time": "2023-02-17T22:07:48.060Z"
   },
   {
    "duration": 763,
    "start_time": "2023-02-17T22:11:56.541Z"
   },
   {
    "duration": 760,
    "start_time": "2023-02-17T22:12:33.064Z"
   },
   {
    "duration": 65,
    "start_time": "2023-02-17T22:13:17.562Z"
   },
   {
    "duration": 759,
    "start_time": "2023-02-17T22:13:28.687Z"
   },
   {
    "duration": 64,
    "start_time": "2023-02-17T22:13:44.273Z"
   },
   {
    "duration": 68,
    "start_time": "2023-02-17T22:14:02.247Z"
   },
   {
    "duration": 68,
    "start_time": "2023-02-17T22:14:23.307Z"
   },
   {
    "duration": 65,
    "start_time": "2023-02-17T22:14:41.519Z"
   },
   {
    "duration": 65,
    "start_time": "2023-02-17T22:16:49.621Z"
   },
   {
    "duration": 66,
    "start_time": "2023-02-17T22:17:17.747Z"
   },
   {
    "duration": 65,
    "start_time": "2023-02-17T22:18:06.296Z"
   },
   {
    "duration": 1428,
    "start_time": "2023-02-18T07:00:05.148Z"
   },
   {
    "duration": 830,
    "start_time": "2023-02-18T07:00:06.578Z"
   },
   {
    "duration": 16,
    "start_time": "2023-02-18T07:00:07.421Z"
   },
   {
    "duration": 25,
    "start_time": "2023-02-18T07:00:07.440Z"
   },
   {
    "duration": 9,
    "start_time": "2023-02-18T07:00:07.467Z"
   },
   {
    "duration": 39,
    "start_time": "2023-02-18T07:00:07.478Z"
   },
   {
    "duration": 130,
    "start_time": "2023-02-18T07:00:07.519Z"
   },
   {
    "duration": 177,
    "start_time": "2023-02-18T07:00:07.651Z"
   },
   {
    "duration": 100,
    "start_time": "2023-02-18T07:00:07.830Z"
   },
   {
    "duration": 10,
    "start_time": "2023-02-18T07:00:07.933Z"
   },
   {
    "duration": 22,
    "start_time": "2023-02-18T07:00:07.944Z"
   },
   {
    "duration": 55,
    "start_time": "2023-02-18T07:00:07.967Z"
   },
   {
    "duration": 5,
    "start_time": "2023-02-18T07:00:08.025Z"
   },
   {
    "duration": 23,
    "start_time": "2023-02-18T07:00:08.032Z"
   },
   {
    "duration": 1339,
    "start_time": "2023-02-18T07:00:08.057Z"
   },
   {
    "duration": 34,
    "start_time": "2023-02-18T07:00:09.398Z"
   },
   {
    "duration": 28,
    "start_time": "2023-02-18T07:00:09.434Z"
   },
   {
    "duration": 362,
    "start_time": "2023-02-18T07:00:09.464Z"
   },
   {
    "duration": 28,
    "start_time": "2023-02-18T07:00:09.829Z"
   },
   {
    "duration": 14,
    "start_time": "2023-02-18T07:00:09.859Z"
   },
   {
    "duration": 35,
    "start_time": "2023-02-18T07:00:09.875Z"
   },
   {
    "duration": 27,
    "start_time": "2023-02-18T07:00:09.915Z"
   },
   {
    "duration": 16,
    "start_time": "2023-02-18T07:00:09.944Z"
   },
   {
    "duration": 63,
    "start_time": "2023-02-18T07:00:09.962Z"
   },
   {
    "duration": 5,
    "start_time": "2023-02-18T07:00:10.026Z"
   },
   {
    "duration": 86,
    "start_time": "2023-02-18T07:00:10.032Z"
   },
   {
    "duration": 62,
    "start_time": "2023-02-18T07:00:10.119Z"
   },
   {
    "duration": 340,
    "start_time": "2023-02-18T07:00:10.184Z"
   },
   {
    "duration": 93,
    "start_time": "2023-02-18T07:00:10.526Z"
   },
   {
    "duration": 114,
    "start_time": "2023-02-18T07:00:10.620Z"
   },
   {
    "duration": 16,
    "start_time": "2023-02-18T07:00:10.736Z"
   },
   {
    "duration": 6,
    "start_time": "2023-02-18T07:00:10.753Z"
   },
   {
    "duration": 16,
    "start_time": "2023-02-18T07:00:10.760Z"
   },
   {
    "duration": 33,
    "start_time": "2023-02-18T07:00:10.778Z"
   },
   {
    "duration": 28,
    "start_time": "2023-02-18T07:00:10.812Z"
   },
   {
    "duration": 11,
    "start_time": "2023-02-18T07:00:10.842Z"
   },
   {
    "duration": 294,
    "start_time": "2023-02-18T07:41:17.246Z"
   },
   {
    "duration": 330,
    "start_time": "2023-02-18T07:43:56.234Z"
   },
   {
    "duration": 271,
    "start_time": "2023-02-18T07:44:04.369Z"
   },
   {
    "duration": 234,
    "start_time": "2023-02-18T07:44:16.601Z"
   },
   {
    "duration": 4,
    "start_time": "2023-02-18T07:44:19.786Z"
   },
   {
    "duration": 3,
    "start_time": "2023-02-18T07:44:26.928Z"
   },
   {
    "duration": 4,
    "start_time": "2023-02-18T07:44:31.464Z"
   },
   {
    "duration": 347,
    "start_time": "2023-02-18T07:44:38.912Z"
   },
   {
    "duration": 5,
    "start_time": "2023-02-18T07:45:02.241Z"
   },
   {
    "duration": 4,
    "start_time": "2023-02-18T07:45:19.318Z"
   },
   {
    "duration": 5,
    "start_time": "2023-02-18T07:45:50.050Z"
   },
   {
    "duration": 8,
    "start_time": "2023-02-18T07:59:40.187Z"
   },
   {
    "duration": 4,
    "start_time": "2023-02-18T08:00:10.164Z"
   },
   {
    "duration": 297,
    "start_time": "2023-02-18T08:02:06.753Z"
   },
   {
    "duration": 13,
    "start_time": "2023-02-18T08:05:35.631Z"
   },
   {
    "duration": 48,
    "start_time": "2023-02-18T08:05:42.651Z"
   },
   {
    "duration": 52,
    "start_time": "2023-02-18T08:05:45.442Z"
   },
   {
    "duration": 16,
    "start_time": "2023-02-18T08:05:49.473Z"
   },
   {
    "duration": 23,
    "start_time": "2023-02-18T08:06:05.700Z"
   },
   {
    "duration": 15,
    "start_time": "2023-02-18T08:06:15.570Z"
   },
   {
    "duration": 6,
    "start_time": "2023-02-18T08:07:07.638Z"
   },
   {
    "duration": 4,
    "start_time": "2023-02-18T08:07:11.661Z"
   },
   {
    "duration": 18,
    "start_time": "2023-02-18T08:07:52.262Z"
   },
   {
    "duration": 4,
    "start_time": "2023-02-18T08:08:01.866Z"
   },
   {
    "duration": 4,
    "start_time": "2023-02-18T08:09:12.672Z"
   },
   {
    "duration": 306,
    "start_time": "2023-02-18T08:09:45.023Z"
   },
   {
    "duration": 4,
    "start_time": "2023-02-18T08:09:45.859Z"
   },
   {
    "duration": 6,
    "start_time": "2023-02-18T08:09:46.421Z"
   },
   {
    "duration": 3,
    "start_time": "2023-02-18T08:09:47.728Z"
   },
   {
    "duration": 7,
    "start_time": "2023-02-18T08:09:49.153Z"
   },
   {
    "duration": 287,
    "start_time": "2023-02-18T08:09:49.935Z"
   },
   {
    "duration": 16,
    "start_time": "2023-02-18T08:09:53.173Z"
   },
   {
    "duration": 10,
    "start_time": "2023-02-18T08:09:57.191Z"
   },
   {
    "duration": 13,
    "start_time": "2023-02-18T08:10:27.231Z"
   },
   {
    "duration": 13,
    "start_time": "2023-02-18T08:11:12.488Z"
   },
   {
    "duration": 55,
    "start_time": "2023-02-18T08:11:56.900Z"
   },
   {
    "duration": 13,
    "start_time": "2023-02-18T08:11:59.278Z"
   },
   {
    "duration": 254,
    "start_time": "2023-02-18T08:13:19.665Z"
   },
   {
    "duration": 266,
    "start_time": "2023-02-18T08:14:15.624Z"
   },
   {
    "duration": 266,
    "start_time": "2023-02-18T08:14:42.623Z"
   },
   {
    "duration": 265,
    "start_time": "2023-02-18T08:15:16.268Z"
   },
   {
    "duration": 271,
    "start_time": "2023-02-18T08:15:31.321Z"
   },
   {
    "duration": 264,
    "start_time": "2023-02-18T08:15:41.769Z"
   },
   {
    "duration": 257,
    "start_time": "2023-02-18T08:15:46.702Z"
   },
   {
    "duration": 5,
    "start_time": "2023-02-18T08:17:34.430Z"
   },
   {
    "duration": 1332,
    "start_time": "2023-02-18T08:38:02.594Z"
   },
   {
    "duration": 180,
    "start_time": "2023-02-18T08:38:03.931Z"
   },
   {
    "duration": 26,
    "start_time": "2023-02-18T08:38:04.114Z"
   },
   {
    "duration": 34,
    "start_time": "2023-02-18T08:38:04.142Z"
   },
   {
    "duration": 9,
    "start_time": "2023-02-18T08:38:04.179Z"
   },
   {
    "duration": 49,
    "start_time": "2023-02-18T08:38:04.190Z"
   },
   {
    "duration": 143,
    "start_time": "2023-02-18T08:38:04.241Z"
   },
   {
    "duration": 187,
    "start_time": "2023-02-18T08:38:04.387Z"
   },
   {
    "duration": 117,
    "start_time": "2023-02-18T08:38:04.576Z"
   },
   {
    "duration": 13,
    "start_time": "2023-02-18T08:38:04.696Z"
   },
   {
    "duration": 38,
    "start_time": "2023-02-18T08:38:04.712Z"
   },
   {
    "duration": 25,
    "start_time": "2023-02-18T08:38:04.752Z"
   },
   {
    "duration": 6,
    "start_time": "2023-02-18T08:38:04.779Z"
   },
   {
    "duration": 30,
    "start_time": "2023-02-18T08:38:04.787Z"
   },
   {
    "duration": 1306,
    "start_time": "2023-02-18T08:38:04.818Z"
   },
   {
    "duration": 20,
    "start_time": "2023-02-18T08:38:06.126Z"
   },
   {
    "duration": 26,
    "start_time": "2023-02-18T08:38:06.148Z"
   },
   {
    "duration": 358,
    "start_time": "2023-02-18T08:38:06.175Z"
   },
   {
    "duration": 252,
    "start_time": "2023-02-18T08:38:06.535Z"
   },
   {
    "duration": 4,
    "start_time": "2023-02-18T08:38:06.788Z"
   },
   {
    "duration": 21,
    "start_time": "2023-02-18T08:38:06.794Z"
   },
   {
    "duration": 8,
    "start_time": "2023-02-18T08:38:06.820Z"
   },
   {
    "duration": 9,
    "start_time": "2023-02-18T08:38:06.830Z"
   },
   {
    "duration": 287,
    "start_time": "2023-02-18T08:38:06.841Z"
   },
   {
    "duration": 18,
    "start_time": "2023-02-18T08:38:07.129Z"
   },
   {
    "duration": 16,
    "start_time": "2023-02-18T08:38:07.149Z"
   },
   {
    "duration": 318,
    "start_time": "2023-02-18T08:38:07.167Z"
   },
   {
    "duration": 34,
    "start_time": "2023-02-18T08:38:07.488Z"
   },
   {
    "duration": 16,
    "start_time": "2023-02-18T08:38:07.524Z"
   },
   {
    "duration": 11,
    "start_time": "2023-02-18T08:38:07.542Z"
   },
   {
    "duration": 18,
    "start_time": "2023-02-18T08:38:07.555Z"
   },
   {
    "duration": 44,
    "start_time": "2023-02-18T08:38:07.575Z"
   },
   {
    "duration": 41,
    "start_time": "2023-02-18T08:38:07.621Z"
   },
   {
    "duration": 6,
    "start_time": "2023-02-18T08:38:07.664Z"
   },
   {
    "duration": 93,
    "start_time": "2023-02-18T08:38:07.673Z"
   },
   {
    "duration": 84,
    "start_time": "2023-02-18T08:38:07.767Z"
   },
   {
    "duration": 335,
    "start_time": "2023-02-18T08:38:07.853Z"
   },
   {
    "duration": 58,
    "start_time": "2023-02-18T08:38:08.190Z"
   },
   {
    "duration": 170,
    "start_time": "2023-02-18T08:38:08.249Z"
   },
   {
    "duration": 17,
    "start_time": "2023-02-18T08:38:08.427Z"
   },
   {
    "duration": 6,
    "start_time": "2023-02-18T08:38:08.446Z"
   },
   {
    "duration": 16,
    "start_time": "2023-02-18T08:38:08.454Z"
   },
   {
    "duration": 35,
    "start_time": "2023-02-18T08:38:08.472Z"
   },
   {
    "duration": 12,
    "start_time": "2023-02-18T08:38:08.512Z"
   },
   {
    "duration": 13,
    "start_time": "2023-02-18T08:38:08.525Z"
   }
  ],
  "kernelspec": {
   "display_name": "Python 3 (ipykernel)",
   "language": "python",
   "name": "python3"
  },
  "language_info": {
   "codemirror_mode": {
    "name": "ipython",
    "version": 3
   },
   "file_extension": ".py",
   "mimetype": "text/x-python",
   "name": "python",
   "nbconvert_exporter": "python",
   "pygments_lexer": "ipython3",
   "version": "3.9.12"
  },
  "latex_envs": {
   "LaTeX_envs_menu_present": true,
   "autoclose": false,
   "autocomplete": true,
   "bibliofile": "biblio.bib",
   "cite_by": "apalike",
   "current_citInitial": 1,
   "eqLabelWithNumbers": true,
   "eqNumInitial": 1,
   "hotkeys": {
    "equation": "Ctrl-E",
    "itemize": "Ctrl-I"
   },
   "labels_anchors": false,
   "latex_user_defs": false,
   "report_style_numbering": false,
   "user_envs_cfg": false
  },
  "nbTranslate": {
   "displayLangs": [
    "*"
   ],
   "hotkey": "alt-t",
   "langInMainMenu": true,
   "sourceLang": "en",
   "targetLang": "fr",
   "useGoogleTranslate": true
  },
  "toc": {
   "base_numbering": 1,
   "nav_menu": {},
   "number_sections": true,
   "sideBar": true,
   "skip_h1_title": false,
   "title_cell": "СБОРНЫЙ ПРОЕКТ - 2. Интернет-магазин продуктов питания.",
   "title_sidebar": "Contents",
   "toc_cell": true,
   "toc_position": {
    "height": "calc(100% - 180px)",
    "left": "10px",
    "top": "150px",
    "width": "288px"
   },
   "toc_section_display": true,
   "toc_window_display": true
  }
 },
 "nbformat": 4,
 "nbformat_minor": 5
}
